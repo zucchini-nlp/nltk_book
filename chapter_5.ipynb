{
 "cells": [
  {
   "cell_type": "code",
   "execution_count": 1,
   "id": "057577d2",
   "metadata": {},
   "outputs": [],
   "source": [
    "import nltk\n",
    "from nltk.corpus import *\n",
    "from collections import defaultdict, Counter\n",
    "from operator import itemgetter\n",
    "import re\n",
    "from sklearn.metrics import confusion_matrix"
   ]
  },
  {
   "cell_type": "markdown",
   "id": "eead0228",
   "metadata": {},
   "source": [
    "__◑ Use sorted() and set() to get a sorted list of tags used in the Brown corpus, removing duplicates.__"
   ]
  },
  {
   "cell_type": "code",
   "execution_count": 2,
   "id": "72a13eff",
   "metadata": {},
   "outputs": [],
   "source": [
    "all_tags = sorted(set([tag for (w, tag) in brown.tagged_words()]))"
   ]
  },
  {
   "cell_type": "code",
   "execution_count": 3,
   "id": "04624973",
   "metadata": {},
   "outputs": [
    {
     "name": "stdout",
     "output_type": "stream",
     "text": [
      "' '' ( (-HL ) )-HL * *-HL *-NC *-TL , ,-HL ,-NC ,-TL -- ---HL . .-HL .-NC .-TL : :-HL :-TL ABL ABN ABN-HL ABN-NC ABN-TL ABX AP AP$ AP+AP-NC AP-HL AP-NC AP-TL AT AT-HL AT-NC AT-TL AT-TL-HL BE BE-HL BE-TL BED BED* BED-NC BEDZ BEDZ* BEDZ-HL BEDZ-NC BEG BEM BEM* BEM-NC BEN BEN-TL BER BER* BER*-NC BER-HL BER-NC BER-TL BEZ BEZ* BEZ-HL BEZ-NC BEZ-TL CC CC-HL CC-NC CC-TL CC-TL-HL CD CD$ CD-HL CD-NC CD-TL CD-TL-HL CS CS-HL CS-NC CS-TL DO DO* DO*-HL DO+PPSS DO-HL DO-NC DO-TL DOD DOD* DOD*-TL DOD-NC DOZ DOZ* DOZ*-TL DOZ-HL DOZ-TL DT DT$ DT+BEZ DT+BEZ-NC DT+MD DT-HL DT-NC DT-TL DTI DTI-HL DTI-TL DTS DTS+BEZ DTS-HL DTX EX EX+BEZ EX+HVD EX+HVZ EX+MD EX-HL EX-NC FW-* FW-*-TL FW-AT FW-AT+NN-TL FW-AT+NP-TL FW-AT-HL FW-AT-TL FW-BE FW-BER FW-BEZ FW-CC FW-CC-TL FW-CD FW-CD-TL FW-CS FW-DT FW-DT+BEZ FW-DTS FW-HV FW-IN FW-IN+AT FW-IN+AT-T FW-IN+AT-TL FW-IN+NN FW-IN+NN-TL FW-IN+NP-TL FW-IN-TL FW-JJ FW-JJ-NC FW-JJ-TL FW-JJR FW-JJT FW-NN FW-NN$ FW-NN$-TL FW-NN-NC FW-NN-TL FW-NN-TL-NC FW-NNS FW-NNS-NC FW-NNS-TL FW-NP FW-NP-TL FW-NPS FW-NPS-TL FW-NR FW-NR-TL FW-OD-NC FW-OD-TL FW-PN FW-PP$ FW-PP$-NC FW-PP$-TL FW-PPL FW-PPL+VBZ FW-PPO FW-PPO+IN FW-PPS FW-PPSS FW-PPSS+HV FW-QL FW-RB FW-RB+CC FW-RB-TL FW-TO+VB FW-UH FW-UH-NC FW-UH-TL FW-VB FW-VB-NC FW-VB-TL FW-VBD FW-VBD-TL FW-VBG FW-VBG-TL FW-VBN FW-VBZ FW-WDT FW-WPO FW-WPS HV HV* HV+TO HV-HL HV-NC HV-TL HVD HVD* HVD-HL HVG HVG-HL HVN HVZ HVZ* HVZ-NC HVZ-TL IN IN+IN IN+PPO IN-HL IN-NC IN-TL IN-TL-HL JJ JJ$-TL JJ+JJ-NC JJ-HL JJ-NC JJ-TL JJ-TL-HL JJ-TL-NC JJR JJR+CS JJR-HL JJR-NC JJR-TL JJS JJS-HL JJS-TL JJT JJT-HL JJT-NC JJT-TL MD MD* MD*-HL MD+HV MD+PPSS MD+TO MD-HL MD-NC MD-TL NIL NN NN$ NN$-HL NN$-TL NN+BEZ NN+BEZ-TL NN+HVD-TL NN+HVZ NN+HVZ-TL NN+IN NN+MD NN+NN-NC NN-HL NN-NC NN-TL NN-TL-HL NN-TL-NC NNS NNS$ NNS$-HL NNS$-NC NNS$-TL NNS$-TL-HL NNS+MD NNS-HL NNS-NC NNS-TL NNS-TL-HL NNS-TL-NC NP NP$ NP$-HL NP$-TL NP+BEZ NP+BEZ-NC NP+HVZ NP+HVZ-NC NP+MD NP-HL NP-NC NP-TL NP-TL-HL NPS NPS$ NPS$-HL NPS$-TL NPS-HL NPS-NC NPS-TL NR NR$ NR$-TL NR+MD NR-HL NR-NC NR-TL NR-TL-HL NRS NRS-TL OD OD-HL OD-NC OD-TL PN PN$ PN+BEZ PN+HVD PN+HVZ PN+MD PN-HL PN-NC PN-TL PP$ PP$$ PP$-HL PP$-NC PP$-TL PPL PPL-HL PPL-NC PPL-TL PPLS PPO PPO-HL PPO-NC PPO-TL PPS PPS+BEZ PPS+BEZ-HL PPS+BEZ-NC PPS+HVD PPS+HVZ PPS+MD PPS-HL PPS-NC PPS-TL PPSS PPSS+BEM PPSS+BER PPSS+BER-N PPSS+BER-NC PPSS+BER-TL PPSS+BEZ PPSS+BEZ* PPSS+HV PPSS+HV-TL PPSS+HVD PPSS+MD PPSS+MD-NC PPSS+VB PPSS-HL PPSS-NC PPSS-TL QL QL-HL QL-NC QL-TL QLP RB RB$ RB+BEZ RB+BEZ-HL RB+BEZ-NC RB+CS RB-HL RB-NC RB-TL RBR RBR+CS RBR-NC RBT RN RP RP+IN RP-HL RP-NC RP-TL TO TO+VB TO-HL TO-NC TO-TL UH UH-HL UH-NC UH-TL VB VB+AT VB+IN VB+JJ-NC VB+PPO VB+RP VB+TO VB+VB-NC VB-HL VB-NC VB-TL VBD VBD-HL VBD-NC VBD-TL VBG VBG+TO VBG-HL VBG-NC VBG-TL VBN VBN+TO VBN-HL VBN-NC VBN-TL VBN-TL-HL VBN-TL-NC VBZ VBZ-HL VBZ-NC VBZ-TL WDT WDT+BER WDT+BER+PP WDT+BEZ WDT+BEZ-HL WDT+BEZ-NC WDT+BEZ-TL WDT+DO+PPS WDT+DOD WDT+HVZ WDT-HL WDT-NC WP$ WPO WPO-NC WPO-TL WPS WPS+BEZ WPS+BEZ-NC WPS+BEZ-TL WPS+HVD WPS+HVZ WPS+MD WPS-HL WPS-NC WPS-TL WQL WQL-TL WRB WRB+BER WRB+BEZ WRB+BEZ-TL WRB+DO WRB+DOD WRB+DOD* WRB+DOZ WRB+IN WRB+MD WRB-HL WRB-NC WRB-TL ``\n"
     ]
    }
   ],
   "source": [
    "print(*all_tags)"
   ]
  },
  {
   "cell_type": "markdown",
   "id": "7debfb15",
   "metadata": {},
   "source": [
    "__◑ Write programs to process the Brown Corpus and find answers to the following questions:__\n",
    "\n",
    "Which nouns are more common in their plural form, rather than their singular form? (Only consider regular plurals, formed with the -s suffix.)\n",
    "\n",
    "Which word has the greatest number of distinct tags. What are they, and what do they represent?\n",
    "\n",
    "List tags in order of decreasing frequency. What do the 20 most frequent tags represent?\n",
    "\n",
    "Which tags are nouns most commonly found after? What do these tags represent?"
   ]
  },
  {
   "cell_type": "code",
   "execution_count": 34,
   "id": "0d6bd0ce",
   "metadata": {},
   "outputs": [],
   "source": [
    "# NUMBER 1\n",
    "all_nouns_sing = [w.lower() for (w, tag) in brown.tagged_words() if tag == \"NN\"] # will consider only sing or plural nouns (no posessives, titles etc.)\n",
    "all_nouns_pl = [w.lower() for (w, tag) in brown.tagged_words() if tag == \"NNS\"]\n",
    "\n",
    "pl_noun_more_freq = []"
   ]
  },
  {
   "cell_type": "code",
   "execution_count": 35,
   "id": "480cabbb",
   "metadata": {},
   "outputs": [],
   "source": [
    "sing_freq_n = nltk.FreqDist(all_nouns_sing)\n",
    "pl_freq_n = nltk.FreqDist(all_nouns_pl)"
   ]
  },
  {
   "cell_type": "code",
   "execution_count": 36,
   "id": "65ad7ee0",
   "metadata": {},
   "outputs": [],
   "source": [
    "for noun in set(all_nouns_sing):\n",
    "    if (noun + \"s\") in all_nouns_pl:\n",
    "        if sing_freq_n[noun] < pl_freq_n[noun + \"s\"]:\n",
    "            pl_noun_more_freq.append(noun)\n",
    "    elif (noun + \"es\") in all_nouns_pl:\n",
    "        if sing_freq_n[noun] < pl_freq_n[noun + \"es\"]:\n",
    "            pl_noun_more_freq.append(noun)"
   ]
  },
  {
   "cell_type": "code",
   "execution_count": 38,
   "id": "31b58496",
   "metadata": {},
   "outputs": [
    {
     "name": "stdout",
     "output_type": "stream",
     "text": [
      "regulation tear asset document interval racketeer slack expectation wave crackpot paragraph intellectual third soybean gasp meter us scholar senator dollar reinforcement revision egg probe expert overture tablespoon bead disclosure song\n"
     ]
    }
   ],
   "source": [
    "print(*pl_noun_more_freq[:30])  # it has some words that do not fit requirements (us, met), since we identified pl only by adding \"s\" "
   ]
  },
  {
   "cell_type": "code",
   "execution_count": 307,
   "id": "03fb750e",
   "metadata": {},
   "outputs": [],
   "source": [
    "## NUMBER 2\n",
    "all_word_cfd = nltk.ConditionalFreqDist([(w.lower(), tag) for (w, tag) in brown.tagged_words()])\n",
    "\n",
    "best = 0\n",
    "most_tags = \"\"\n",
    "for condition in all_word_cfd.conditions():\n",
    "    if len(all_word_cfd[condition]) > best:\n",
    "        best = len(all_word_cfd[condition])\n",
    "        most_tags = condition"
   ]
  },
  {
   "cell_type": "code",
   "execution_count": 48,
   "id": "00b49916",
   "metadata": {},
   "outputs": [
    {
     "name": "stdout",
     "output_type": "stream",
     "text": [
      "The word with most tags is that and the tags are\n"
     ]
    },
    {
     "data": {
      "text/plain": [
       "FreqDist({'CS': 6464, 'DT': 2260, 'WPS': 1654, 'WPO': 135, 'QL': 56, 'DT-NC': 6, 'DT-TL': 5, 'WPS-TL': 3, 'WPS-NC': 3, 'CS-NC': 2, ...})"
      ]
     },
     "execution_count": 48,
     "metadata": {},
     "output_type": "execute_result"
    }
   ],
   "source": [
    "print(\"The word with most tags is {} and the tags are\".format(most_tags))\n",
    "all_word_cfd[most_tags]"
   ]
  },
  {
   "cell_type": "code",
   "execution_count": 49,
   "id": "425a3110",
   "metadata": {},
   "outputs": [
    {
     "data": {
      "text/plain": [
       "[('NN', 152470),\n",
       " ('IN', 120557),\n",
       " ('AT', 97959),\n",
       " ('JJ', 64028),\n",
       " ('.', 60638),\n",
       " (',', 58156),\n",
       " ('NNS', 55110),\n",
       " ('CC', 37718),\n",
       " ('RB', 36464),\n",
       " ('NP', 34476),\n",
       " ('VB', 33693),\n",
       " ('VBN', 29186),\n",
       " ('VBD', 26167),\n",
       " ('CS', 22143),\n",
       " ('PPS', 18253),\n",
       " ('VBG', 17893),\n",
       " ('PP$', 16872),\n",
       " ('TO', 14918),\n",
       " ('PPSS', 13802),\n",
       " ('CD', 13510)]"
      ]
     },
     "execution_count": 49,
     "metadata": {},
     "output_type": "execute_result"
    }
   ],
   "source": [
    "# NUMBER 3\n",
    "# List tags in order of decreasing frequency. What do the 20 most frequent tags represent?\n",
    "all_tags_freq = nltk.FreqDist([tag for (w, tag) in brown.tagged_words()])\n",
    "all_tags_freq.most_common(20)"
   ]
  },
  {
   "cell_type": "code",
   "execution_count": 50,
   "id": "3223190c",
   "metadata": {},
   "outputs": [
    {
     "data": {
      "text/plain": [
       "[('AT', 59656),\n",
       " ('JJ', 40864),\n",
       " ('IN', 24012),\n",
       " ('NN', 17789),\n",
       " ('PP$', 12241),\n",
       " ('CC', 6610),\n",
       " ('CD', 5264),\n",
       " ('AP', 5112),\n",
       " ('DT', 4540),\n",
       " ('VBG', 4407)]"
      ]
     },
     "execution_count": 50,
     "metadata": {},
     "output_type": "execute_result"
    }
   ],
   "source": [
    "# NUMBER 4\n",
    "# Which tags are nouns most commonly found after? What do these tags represent?\n",
    "\n",
    "before_n_tags = []\n",
    "for (w1, t1), (w2, t2) in nltk.bigrams(brown.tagged_words()):\n",
    "    if t2.startswith(\"NN\"):\n",
    "        before_n_tags.append(t1)\n",
    "\n",
    "nltk.FreqDist(before_n_tags).most_common(10)"
   ]
  },
  {
   "cell_type": "markdown",
   "id": "1ddcef8e",
   "metadata": {},
   "source": [
    "__◑ Explore the following issues that arise in connection with the lookup tagger:__\n",
    "\n",
    "What happens to the tagger performance for the various model sizes when a backoff tagger is omitted?\n",
    "\n",
    "Consider the curve in 4.2; suggest a good size for a lookup tagger that balances memory and performance. Can you come up with scenarios where it would be preferable to minimize memory usage, or to maximize performance with no regard for memory usage?"
   ]
  },
  {
   "cell_type": "code",
   "execution_count": 52,
   "id": "b9e2885d",
   "metadata": {},
   "outputs": [],
   "source": [
    "slice = int(len(brown.tagged_sents()) * 0.9)"
   ]
  },
  {
   "cell_type": "code",
   "execution_count": 54,
   "id": "d214a276",
   "metadata": {},
   "outputs": [
    {
     "data": {
      "text/plain": [
       "0.8849353534083527"
      ]
     },
     "execution_count": 54,
     "metadata": {},
     "output_type": "execute_result"
    }
   ],
   "source": [
    "lookup_tagger = nltk.UnigramTagger(brown.tagged_sents()[:slice])\n",
    "lookup_tagger.evaluate(brown.tagged_sents()[slice:])"
   ]
  },
  {
   "cell_type": "code",
   "execution_count": 288,
   "id": "1bc98fd6",
   "metadata": {},
   "outputs": [],
   "source": [
    "def performance(cfd, wordlist):\n",
    "    lt = dict((word, cfd[word].max()) for word in wordlist)\n",
    "    lookup_tagger = nltk.UnigramTagger(model=lt)\n",
    "    return lookup_tagger.evaluate(brown.tagged_sents(categories='news'))\n",
    "\n",
    "def display():\n",
    "    import pylab\n",
    "    word_freqs = nltk.FreqDist(brown.words(categories='news')).most_common()\n",
    "    words_by_freq = [w for (w, _) in word_freqs]\n",
    "    cfd = nltk.ConditionalFreqDist(brown.tagged_words(categories='news'))\n",
    "    sizes = 2 ** pylab.arange(15)\n",
    "    perfs = [performance(cfd, words_by_freq[:size]) for size in sizes]\n",
    "    pylab.plot(sizes, perfs, '-bo')\n",
    "    pylab.title('Lookup Tagger Performance with Varying Model Size')\n",
    "    pylab.xlabel('Model Size')\n",
    "    pylab.ylabel('Performance')\n",
    "    pylab.show()"
   ]
  },
  {
   "cell_type": "code",
   "execution_count": 289,
   "id": "57739626",
   "metadata": {
    "scrolled": true
   },
   "outputs": [
    {
     "data": {
      "image/png": "[encoded data removed]",
      "text/plain": [
       "<Figure size 432x288 with 1 Axes>"
      ]
     },
     "metadata": {
      "needs_background": "light"
     },
     "output_type": "display_data"
    }
   ],
   "source": [
    "display()"
   ]
  },
  {
   "cell_type": "markdown",
   "id": "f1ce599e",
   "metadata": {},
   "source": [
    "__◑ What is the upper limit of performance for a lookup tagger, assuming no limit to the size of its table? (Hint: write a program to work out what percentage of tokens of a word are assigned the most likely tag for that word, on average.)__"
   ]
  },
  {
   "cell_type": "code",
   "execution_count": 64,
   "id": "3766bfab",
   "metadata": {},
   "outputs": [],
   "source": [
    "cfd_all = nltk.ConditionalFreqDist((w.lower(), tag) for (w, tag) in brown.tagged_words()) # for a given word, indicates which tag is most likely\n",
    "word_most_likely_tag = []\n",
    "\n",
    "for word in cfd_all.conditions():\n",
    "    word_most_likely_tag.append((word,cfd_all[word].most_common(1)))"
   ]
  },
  {
   "cell_type": "code",
   "execution_count": 65,
   "id": "0a4124f6",
   "metadata": {},
   "outputs": [
    {
     "data": {
      "text/plain": [
       "[('the', [('AT', 69013)]),\n",
       " ('fulton', [('NP-TL', 10)]),\n",
       " ('county', [('NN-TL', 83)]),\n",
       " ('grand', [('JJ', 30)]),\n",
       " ('jury', [('NN', 63)]),\n",
       " ('said', [('VBD', 1747)]),\n",
       " ('friday', [('NR', 55)]),\n",
       " ('an', [('AT', 3706)]),\n",
       " ('investigation', [('NN', 43)]),\n",
       " ('of', [('IN', 35028)])]"
      ]
     },
     "execution_count": 65,
     "metadata": {},
     "output_type": "execute_result"
    }
   ],
   "source": [
    "word_most_likely_tag[:10]"
   ]
  },
  {
   "cell_type": "code",
   "execution_count": null,
   "id": "0615b62b",
   "metadata": {},
   "outputs": [],
   "source": []
  },
  {
   "cell_type": "code",
   "execution_count": null,
   "id": "4abffd13",
   "metadata": {},
   "outputs": [],
   "source": []
  },
  {
   "cell_type": "markdown",
   "id": "d01134ea",
   "metadata": {},
   "source": [
    "__◑ Generate some statistics for tagged data to answer the following questions:__\n",
    "\n",
    "What proportion of word types are always assigned the same part-of-speech tag?\n",
    "\n",
    "How many words are ambiguous, in the sense that they appear with at least two tags?\n",
    "\n",
    "What percentage of word tokens in the Brown Corpus involve these ambiguous words?"
   ]
  },
  {
   "cell_type": "code",
   "execution_count": 78,
   "id": "44fd49a3",
   "metadata": {},
   "outputs": [],
   "source": [
    "one_tag_words = []\n",
    "for word in cfd_all.conditions():\n",
    "    if len(cfd_all[word]) == 1:\n",
    "        one_tag_words.append((word, cfd_all[word].keys()))"
   ]
  },
  {
   "cell_type": "code",
   "execution_count": 83,
   "id": "dd972eef",
   "metadata": {},
   "outputs": [
    {
     "data": {
      "text/plain": [
       "[(\"atlanta's\", dict_keys(['NP$'])),\n",
       " ('``', dict_keys(['``'])),\n",
       " (\"''\", dict_keys([\"''\"])),\n",
       " ('irregularities', dict_keys(['NNS'])),\n",
       " ('took', dict_keys(['VBD'])),\n",
       " ('term-end', dict_keys(['NN'])),\n",
       " ('presentments', dict_keys(['NNS'])),\n",
       " ('deserves', dict_keys(['VBZ'])),\n",
       " ('manner', dict_keys(['NN'])),\n",
       " ('september-october', dict_keys(['NP'])),\n",
       " ('durwood', dict_keys(['NP'])),\n",
       " ('pye', dict_keys(['NP'])),\n",
       " ('investigate', dict_keys(['VB'])),\n",
       " ('possible', dict_keys(['JJ'])),\n",
       " ('hard-fought', dict_keys(['JJ'])),\n",
       " ('mayor-nominate', dict_keys(['NN-TL'])),\n",
       " ('ivan', dict_keys(['NP'])),\n",
       " ('handful', dict_keys(['NN'])),\n",
       " (\"georgia's\", dict_keys(['NP$'])),\n",
       " ('registration', dict_keys(['NN']))]"
      ]
     },
     "execution_count": 83,
     "metadata": {},
     "output_type": "execute_result"
    }
   ],
   "source": [
    "one_tag_words[:20]  # it can be noticed that punc are always assigned the same tag :)"
   ]
  },
  {
   "cell_type": "code",
   "execution_count": 88,
   "id": "d68b2ec4",
   "metadata": {},
   "outputs": [],
   "source": [
    "# How many words are ambiguous, in the sense that they appear with at least two tags?\n",
    "ambiguous_tags_words = []\n",
    "for word in cfd_all.conditions():\n",
    "    if len(cfd_all[word]) > 1:\n",
    "        ambiguous_tags_words.append((word, list(cfd_all[word].keys())))"
   ]
  },
  {
   "cell_type": "code",
   "execution_count": 89,
   "id": "66c9755c",
   "metadata": {},
   "outputs": [
    {
     "data": {
      "text/plain": [
       "9580"
      ]
     },
     "execution_count": 89,
     "metadata": {},
     "output_type": "execute_result"
    }
   ],
   "source": [
    "len(ambiguous_tags_words)"
   ]
  },
  {
   "cell_type": "code",
   "execution_count": 90,
   "id": "42b51fa4",
   "metadata": {},
   "outputs": [
    {
     "data": {
      "text/plain": [
       "[('the', ['AT', 'AT-TL', 'AT-HL', 'AT-NC', 'NIL', 'AT-TL-HL']),\n",
       " ('fulton', ['NP-TL', 'NP']),\n",
       " ('county', ['NN-TL', 'NN', 'NN-HL']),\n",
       " ('grand', ['JJ-TL', 'JJ', 'FW-JJ-TL']),\n",
       " ('jury', ['NN-TL', 'NN', 'NN-HL']),\n",
       " ('said', ['VBD', 'VBN', 'VBN-HL']),\n",
       " ('friday', ['NR', 'NR-TL', 'NP']),\n",
       " ('an', ['AT', 'AT-HL', 'AT-TL', 'NIL', 'AT-NC', 'CC']),\n",
       " ('investigation', ['NN', 'NN-TL']),\n",
       " ('of', ['IN', 'IN-TL', 'IN-HL', 'IN-TL-HL', 'IN-NC', 'NIL']),\n",
       " ('recent', ['JJ', 'JJ-HL']),\n",
       " ('primary', ['NN', 'JJ', 'JJ-HL']),\n",
       " ('election', ['NN', 'NN-TL']),\n",
       " ('produced', ['VBD', 'VBN']),\n",
       " ('no', ['AT', 'RB', 'AT-HL', 'AT-TL', 'QL', 'RB-NC']),\n",
       " ('evidence', ['NN', 'VB']),\n",
       " ('that',\n",
       "  ['CS',\n",
       "   'WPS',\n",
       "   'DT',\n",
       "   'QL',\n",
       "   'WPO',\n",
       "   'CS-HL',\n",
       "   'DT-TL',\n",
       "   'WPS-TL',\n",
       "   'DT-HL',\n",
       "   'DT-NC',\n",
       "   'NIL',\n",
       "   'WPS-NC',\n",
       "   'WPO-NC',\n",
       "   'CS-NC',\n",
       "   'WPS-HL']),\n",
       " ('any', ['DTI', 'QL', 'DTI-HL', 'DTI-TL', 'RB']),\n",
       " ('place', ['NN', 'VB', 'NN-TL', 'NP', 'NN-HL', 'FW-NN-TL', 'NN-NC']),\n",
       " ('.', ['.', '.-HL'])]"
      ]
     },
     "execution_count": 90,
     "metadata": {},
     "output_type": "execute_result"
    }
   ],
   "source": [
    "ambiguous_tags_words[:20]  # Yet, we see here a punc \".\" assigned two tags"
   ]
  },
  {
   "cell_type": "code",
   "execution_count": 94,
   "id": "06bb6ff2",
   "metadata": {},
   "outputs": [
    {
     "name": "stdout",
     "output_type": "stream",
     "text": [
      "Percentage calculated with set of tokens is - 0.15095349376527464\n"
     ]
    }
   ],
   "source": [
    "# What percentage of word tokens in the Brown Corpus involve these ambiguous words?\n",
    "ambigous_words = [w for (w, tags) in ambiguous_tags_words]\n",
    "\n",
    "intersection = list(set(brown.words()) & set(ambigous_words))\n",
    "print(\"Percentage calculated with set of tokens is -\", len(set(intersection))/len(set(brown.words())))"
   ]
  },
  {
   "cell_type": "code",
   "execution_count": 102,
   "id": "c325c7e7",
   "metadata": {},
   "outputs": [
    {
     "data": {
      "text/plain": [
       "56057"
      ]
     },
     "execution_count": 102,
     "metadata": {},
     "output_type": "execute_result"
    }
   ],
   "source": [
    "len(set(brown.words()))  # unique words in brown corpus"
   ]
  },
  {
   "cell_type": "markdown",
   "id": "c6da3caf",
   "metadata": {},
   "source": [
    "__◑ The evaluate() method works out how accurately the tagger performs on this text. For example, if the supplied tagged text was [('the', 'DT'), ('dog', 'NN')] and the tagger produced the output [('the', 'NN'), ('dog', 'NN')], then the score would be 0.5. Let's try to figure out how the evaluation method works:__\n",
    "\n",
    "A tagger t takes a list of words as input, and produces a list of tagged words as output. However, t.evaluate() is given correctly tagged text as its only parameter. What must it do with this input before performing the tagging?\n",
    "\n",
    "Once the tagger has created newly tagged text, how might the evaluate() method go about comparing it with the original tagged text and computing the accuracy score?\n",
    "\n",
    "Now examine the source code to see how the method is implemented. Inspect nltk.tag.api.__file__ to discover the location of the source code, and open this file using an editor (be sure to use the api.py file and not the compiled api.pyc binary file)."
   ]
  },
  {
   "cell_type": "code",
   "execution_count": 105,
   "id": "31df416f",
   "metadata": {},
   "outputs": [
    {
     "name": "stdout",
     "output_type": "stream",
     "text": [
      "Help on package nltk.tag in nltk:\n",
      "\n",
      "NAME\n",
      "    nltk.tag - NLTK Taggers\n",
      "\n",
      "DESCRIPTION\n",
      "    This package contains classes and interfaces for part-of-speech\n",
      "    tagging, or simply \"tagging\".\n",
      "    \n",
      "    A \"tag\" is a case-sensitive string that specifies some property of a token,\n",
      "    such as its part of speech.  Tagged tokens are encoded as tuples\n",
      "    ``(tag, token)``.  For example, the following tagged token combines\n",
      "    the word ``'fly'`` with a noun part of speech tag (``'NN'``):\n",
      "    \n",
      "        >>> tagged_tok = ('fly', 'NN')\n",
      "    \n",
      "    An off-the-shelf tagger is available for English. It uses the Penn Treebank tagset:\n",
      "    \n",
      "        >>> from nltk import pos_tag, word_tokenize\n",
      "        >>> pos_tag(word_tokenize(\"John's big idea isn't all that bad.\"))\n",
      "        [('John', 'NNP'), (\"'s\", 'POS'), ('big', 'JJ'), ('idea', 'NN'), ('is', 'VBZ'),\n",
      "        (\"n't\", 'RB'), ('all', 'PDT'), ('that', 'DT'), ('bad', 'JJ'), ('.', '.')]\n",
      "    \n",
      "    A Russian tagger is also available if you specify lang=\"rus\". It uses\n",
      "    the Russian National Corpus tagset:\n",
      "    \n",
      "        >>> pos_tag(word_tokenize(\"Илья оторопел и дважды перечитал бумажку.\"), lang='rus')    # doctest: +SKIP\n",
      "        [('Илья', 'S'), ('оторопел', 'V'), ('и', 'CONJ'), ('дважды', 'ADV'), ('перечитал', 'V'),\n",
      "        ('бумажку', 'S'), ('.', 'NONLEX')]\n",
      "    \n",
      "    This package defines several taggers, which take a list of tokens,\n",
      "    assign a tag to each one, and return the resulting list of tagged tokens.\n",
      "    Most of the taggers are built automatically based on a training corpus.\n",
      "    For example, the unigram tagger tags each word *w* by checking what\n",
      "    the most frequent tag for *w* was in a training corpus:\n",
      "    \n",
      "        >>> from nltk.corpus import brown\n",
      "        >>> from nltk.tag import UnigramTagger\n",
      "        >>> tagger = UnigramTagger(brown.tagged_sents(categories='news')[:500])\n",
      "        >>> sent = ['Mitchell', 'decried', 'the', 'high', 'rate', 'of', 'unemployment']\n",
      "        >>> for word, tag in tagger.tag(sent):\n",
      "        ...     print(word, '->', tag)\n",
      "        Mitchell -> NP\n",
      "        decried -> None\n",
      "        the -> AT\n",
      "        high -> JJ\n",
      "        rate -> NN\n",
      "        of -> IN\n",
      "        unemployment -> None\n",
      "    \n",
      "    Note that words that the tagger has not seen during training receive a tag\n",
      "    of ``None``.\n",
      "    \n",
      "    We evaluate a tagger on data that was not seen during training:\n",
      "    \n",
      "        >>> tagger.evaluate(brown.tagged_sents(categories='news')[500:600])\n",
      "        0.7...\n",
      "    \n",
      "    For more information, please consult chapter 5 of the NLTK Book.\n",
      "\n",
      "PACKAGE CONTENTS\n",
      "    api\n",
      "    brill\n",
      "    brill_trainer\n",
      "    crf\n",
      "    hmm\n",
      "    hunpos\n",
      "    mapping\n",
      "    perceptron\n",
      "    senna\n",
      "    sequential\n",
      "    stanford\n",
      "    tnt\n",
      "    util\n",
      "\n",
      "FUNCTIONS\n",
      "    pos_tag(tokens, tagset=None, lang='eng')\n",
      "        Use NLTK's currently recommended part of speech tagger to\n",
      "        tag the given list of tokens.\n",
      "        \n",
      "            >>> from nltk.tag import pos_tag\n",
      "            >>> from nltk.tokenize import word_tokenize\n",
      "            >>> pos_tag(word_tokenize(\"John's big idea isn't all that bad.\"))\n",
      "            [('John', 'NNP'), (\"'s\", 'POS'), ('big', 'JJ'), ('idea', 'NN'), ('is', 'VBZ'),\n",
      "            (\"n't\", 'RB'), ('all', 'PDT'), ('that', 'DT'), ('bad', 'JJ'), ('.', '.')]\n",
      "            >>> pos_tag(word_tokenize(\"John's big idea isn't all that bad.\"), tagset='universal')\n",
      "            [('John', 'NOUN'), (\"'s\", 'PRT'), ('big', 'ADJ'), ('idea', 'NOUN'), ('is', 'VERB'),\n",
      "            (\"n't\", 'ADV'), ('all', 'DET'), ('that', 'DET'), ('bad', 'ADJ'), ('.', '.')]\n",
      "        \n",
      "        NB. Use `pos_tag_sents()` for efficient tagging of more than one sentence.\n",
      "        \n",
      "        :param tokens: Sequence of tokens to be tagged\n",
      "        :type tokens: list(str)\n",
      "        :param tagset: the tagset to be used, e.g. universal, wsj, brown\n",
      "        :type tagset: str\n",
      "        :param lang: the ISO 639 code of the language, e.g. 'eng' for English, 'rus' for Russian\n",
      "        :type lang: str\n",
      "        :return: The tagged tokens\n",
      "        :rtype: list(tuple(str, str))\n",
      "    \n",
      "    pos_tag_sents(sentences, tagset=None, lang='eng')\n",
      "        Use NLTK's currently recommended part of speech tagger to tag the\n",
      "        given list of sentences, each consisting of a list of tokens.\n",
      "        \n",
      "        :param sentences: List of sentences to be tagged\n",
      "        :type sentences: list(list(str))\n",
      "        :param tagset: the tagset to be used, e.g. universal, wsj, brown\n",
      "        :type tagset: str\n",
      "        :param lang: the ISO 639 code of the language, e.g. 'eng' for English, 'rus' for Russian\n",
      "        :type lang: str\n",
      "        :return: The list of tagged sentences\n",
      "        :rtype: list(list(tuple(str, str)))\n",
      "\n",
      "DATA\n",
      "    RUS_PICKLE = 'taggers/averaged_perceptron_tagger_ru/averaged_perceptro...\n",
      "\n",
      "FILE\n",
      "    c:\\users\\raushan\\anaconda3\\lib\\site-packages\\nltk\\tag\\__init__.py\n",
      "\n",
      "\n"
     ]
    }
   ],
   "source": [
    "help(nltk.tag)"
   ]
  },
  {
   "cell_type": "code",
   "execution_count": null,
   "id": "0a8024c0",
   "metadata": {},
   "outputs": [],
   "source": [
    "# from nltk.tag.api \n",
    "# relies accuracy from nltk.metrics\n",
    "\n",
    "def accuracy(self, gold):\n",
    "        \"\"\"\n",
    "        Score the accuracy of the tagger against the gold standard.\n",
    "        Strip the tags from the gold standard text, retag it using\n",
    "        the tagger, then compute the accuracy score.\n",
    "\n",
    "        :param gold: The list of tagged sentences to score the tagger on.\n",
    "        :type gold: list(list(tuple(str, str)))\n",
    "        :rtype: float\n",
    "        \"\"\"\n",
    "\n",
    "    tagged_sents = self.tag_sents(untag(sent) for sent in gold)\n",
    "    gold_tokens = list(chain.from_iterable(gold))\n",
    "    test_tokens = list(chain.from_iterable(tagged_sents))\n",
    "    return accuracy(gold_tokens, test_tokens)"
   ]
  },
  {
   "cell_type": "markdown",
   "id": "b991faa1",
   "metadata": {},
   "source": [
    "__◑ Write code to search the Brown Corpus for particular words and phrases according to tags, to answer the following questions:__\n",
    "\n",
    "Produce an alphabetically sorted list of the distinct words tagged as MD.\n",
    "\n",
    "Identify words that can be plural nouns or third person singular verbs (e.g. deals, flies).\n",
    "\n",
    "Identify three-word prepositional phrases of the form IN + DET + NN (eg. in the lab).\n",
    "\n",
    "What is the ratio of masculine to feminine pronouns?"
   ]
  },
  {
   "cell_type": "code",
   "execution_count": 115,
   "id": "9dbd301a",
   "metadata": {},
   "outputs": [
    {
     "name": "stdout",
     "output_type": "stream",
     "text": [
      "There are 26 modals in brown corpus, first 15 of which are\n",
      "[\"c'n\", 'can', 'colde', 'could', 'dare', 'kin', 'maht', 'mai', 'may', 'maye', 'mayst', 'might', 'must', 'need', 'ought']"
     ]
    }
   ],
   "source": [
    "# Produce an alphabetically sorted list of the distinct words tagged as MD.\n",
    "md_words = sorted(set([w.lower() for (w, tag) in brown.tagged_words() if tag == \"MD\"]))\n",
    "print(\"There are {} modals in brown corpus, first 15 of which are\\n{}\".format(len(md_words), md_words[:15]), end = \"\")"
   ]
  },
  {
   "cell_type": "code",
   "execution_count": 117,
   "id": "f0182cce",
   "metadata": {},
   "outputs": [],
   "source": [
    "# Identify words that can be plural nouns or third person singular verbs (e.g. deals, flies).\n",
    "nns = set([w.lower() for (w, tag) in brown.tagged_words() if tag == \"NNS\"])\n",
    "vbz = set([w.lower() for (w, tag) in brown.tagged_words() if tag == \"VBZ\"])\n",
    "both_nns_vbz = list(nns & vbz)"
   ]
  },
  {
   "cell_type": "code",
   "execution_count": 119,
   "id": "ad26fbc7",
   "metadata": {},
   "outputs": [
    {
     "name": "stdout",
     "output_type": "stream",
     "text": [
      "There are 425 words which are both NNS and VBZ in brown corpus, first 10 of which are\n",
      "['values', 'conflicts', 'desires', 'breaks', 'dashes', 'clutches', 'runs', 'totals', 'fields', 'looks', 'tests', 'wonders', 'senses', 'upsets', 'trades']"
     ]
    }
   ],
   "source": [
    "print(\"There are {} words which are both NNS and VBZ in brown corpus, first 10 of which are\\n{}\".format(len(both_nns_vbz), both_nns_vbz[:15]), end = \"\")"
   ]
  },
  {
   "cell_type": "code",
   "execution_count": 127,
   "id": "57ef806c",
   "metadata": {},
   "outputs": [],
   "source": [
    "# Identify three-word prepositional phrases of the form IN + DET + NN (eg. in the lab).\n",
    "prep_phr = []\n",
    "for (w1, t1), (w2, t2), (w3, t3) in nltk.trigrams(brown.tagged_words()):\n",
    "    if t1.startswith(\"IN\") and t2.startswith(\"DT\") and t3.startswith(\"NN\"):  # brown corpus does not have DET tag\n",
    "        prep_phr.append((w1, w2, w3))"
   ]
  },
  {
   "cell_type": "code",
   "execution_count": 131,
   "id": "9214db2f",
   "metadata": {},
   "outputs": [
    {
     "data": {
      "text/plain": [
       "[('of', 'this', 'city'),\n",
       " ('of', 'this', 'money'),\n",
       " ('of', 'these', 'funds'),\n",
       " ('in', 'each', 'county'),\n",
       " ('for', 'some', 'time'),\n",
       " ('in', 'this', 'county'),\n",
       " ('on', 'this', 'question'),\n",
       " ('with', 'any', 'relatives'),\n",
       " ('in', 'this', 'case'),\n",
       " ('of', 'that', 'court')]"
      ]
     },
     "execution_count": 131,
     "metadata": {},
     "output_type": "execute_result"
    }
   ],
   "source": [
    "prep_phr[:10]"
   ]
  },
  {
   "cell_type": "code",
   "execution_count": 134,
   "id": "3cfc4866",
   "metadata": {},
   "outputs": [],
   "source": [
    "# What is the ratio of masculine to feminine pronouns?\n",
    "\n",
    "# Tags in brown corpus do not differentitae between masc and fem pronouns so I will try to manually do it with only PP$ posessives\n",
    "pronouns = [w.lower() for (w, tag) in brown.tagged_words() if tag == \"PP$\"]"
   ]
  },
  {
   "cell_type": "code",
   "execution_count": 137,
   "id": "52502be2",
   "metadata": {},
   "outputs": [
    {
     "data": {
      "text/plain": [
       "3.608311688311688"
      ]
     },
     "execution_count": 137,
     "metadata": {},
     "output_type": "execute_result"
    }
   ],
   "source": [
    "masc = sum([1 for p in pronouns if p == \"his\"])\n",
    "fem = sum([1 for p in pronouns if p == \"her\"])\n",
    "masc/fem"
   ]
  },
  {
   "cell_type": "markdown",
   "id": "b6c72c5f",
   "metadata": {},
   "source": [
    "__◑ In 3.1 we saw a table involving frequency counts for the verbs adore, love, like, prefer and preceding qualifiers absolutely and definitely. Investigate the full range of adverbs that appear before these four verbs.__"
   ]
  },
  {
   "cell_type": "code",
   "execution_count": 146,
   "id": "d078b61a",
   "metadata": {},
   "outputs": [],
   "source": [
    "adverbs_before_qualifiers = []\n",
    "for (w1, t1), (w2, t2) in nltk.bigrams(brown.tagged_words()):\n",
    "    if (t1.startswith(\"QL\") or t1.startswith(\"RB\")) and re.search(r'\\b(adore|love|prefer|like)', w2):\n",
    "        adverbs_before_qualifiers.append((w1, w2))"
   ]
  },
  {
   "cell_type": "code",
   "execution_count": 147,
   "id": "3cba0dab",
   "metadata": {},
   "outputs": [
    {
     "data": {
      "text/plain": [
       "173"
      ]
     },
     "execution_count": 147,
     "metadata": {},
     "output_type": "execute_result"
    }
   ],
   "source": [
    "len(adverbs_before_qualifiers)"
   ]
  },
  {
   "cell_type": "code",
   "execution_count": 149,
   "id": "848170b7",
   "metadata": {
    "scrolled": true
   },
   "outputs": [
    {
     "data": {
      "text/plain": [
       "[('just', 'like'),\n",
       " ('most', 'likely'),\n",
       " ('always', 'like'),\n",
       " ('together', 'like'),\n",
       " ('just', 'like'),\n",
       " ('also', 'likes'),\n",
       " ('certainly', 'preferred'),\n",
       " ('as', 'likely'),\n",
       " ('somewhat', 'like'),\n",
       " ('more', 'like'),\n",
       " ('ago', 'cypress-like'),\n",
       " ('increasingly', 'like'),\n",
       " ('more', 'likely'),\n",
       " ('most', 'likely'),\n",
       " ('longer', 'loves'),\n",
       " ('just', 'like'),\n",
       " ('so', 'loved'),\n",
       " ('so', 'loved'),\n",
       " ('as', 'likely'),\n",
       " ('around', 'like')]"
      ]
     },
     "execution_count": 149,
     "metadata": {},
     "output_type": "execute_result"
    }
   ],
   "source": [
    "# since brown corpus tags adverbs such as \"absolutely\" with different tags (QL andd RB), \n",
    "# those were used above, whci gives unrelated results sometimes\n",
    "adverbs_before_qualifiers[:20] "
   ]
  },
  {
   "cell_type": "markdown",
   "id": "347a4804",
   "metadata": {},
   "source": [
    "__◑ We defined the regexp_tagger that can be used as a fall-back tagger for unknown words. This tagger only checks for cardinal numbers. By testing for particular prefix or suffix strings, it should be possible to guess other tags. For example, we could tag any word that ends with -s as a plural noun. Define a regular expression tagger (using RegexpTagger()) that tests for at least five other patterns in the spelling of words. (Use inline documentation to explain the rules.)__"
   ]
  },
  {
   "cell_type": "code",
   "execution_count": 16,
   "id": "46ae80b2",
   "metadata": {},
   "outputs": [],
   "source": [
    "patterns = [\n",
    "     (r'\\w+ing$', 'VBG'),                     # gerunds\n",
    "     (r'\\w+ed$', 'VBD'),                      # simple past\n",
    "     (r'\\w+[aeoui]es$', 'VBZ'),               # 3rd singular present\n",
    "     (r'\\w+ould$', 'MD'),                     # modals\n",
    "     (r'\\w+\\'s$', 'NN$'),                     # possessive nouns\n",
    "     (r'\\w+s$', 'NNS'),                       # plural nouns\n",
    "     (r'^-?[0-9]+(\\.[0-9]+)?$', 'CD'),        # cardinal numbers\n",
    "     (r'\\w+(ly|wards&|wise)$', 'RB'),                          # adverbs \n",
    "     (r'\\w+(ness|ion|istism|ship|ity|ment|hood)$', 'NN'),      # nouns (suffixes)\n",
    "     (r'\\w+(less|ous|like|ful|able)', 'JJ'),                   # adjectives (default)\n",
    "    \n",
    "     (r'.*', 'NN')                      # nouns (default)\n",
    "]"
   ]
  },
  {
   "cell_type": "code",
   "execution_count": 17,
   "id": "d19f3688",
   "metadata": {},
   "outputs": [
    {
     "data": {
      "text/plain": [
       "0.21477326746997913"
      ]
     },
     "execution_count": 17,
     "metadata": {},
     "output_type": "execute_result"
    }
   ],
   "source": [
    "regexp_tagger = nltk.RegexpTagger(patterns)\n",
    "regexp_tagger.evaluate(brown.tagged_sents())  # not much better than the regexp tagger in the book, which got 0.203"
   ]
  },
  {
   "cell_type": "markdown",
   "id": "de81753c",
   "metadata": {},
   "source": [
    "__◑ Consider the regular expression tagger developed in the exercises in the previous section. Evaluate the tagger using its accuracy() method, and try to come up with ways to improve its performance. Discuss your findings. How does objective evaluation help in the development process?__"
   ]
  },
  {
   "cell_type": "code",
   "execution_count": 164,
   "id": "3b05e02a",
   "metadata": {},
   "outputs": [],
   "source": [
    "patterns_2 = [\n",
    "     (r'\\w+ing$', 'VERB'),                     # gerunds\n",
    "     (r'\\w+ed$', 'VERB'),                      # simple past\n",
    "     (r'\\w+[aeoui]es$', 'VERB'),               # 3rd singular present\n",
    "     (r'(s?he|I|we|the[ym]|your?s?|me|his|her|our|their)', 'PRON'),                     # modals\n",
    "     (r'\\w+\\'s$', 'NOUN'),                     # possessive nouns\n",
    "     (r'\\w+s$', 'NOUN'),                       # plural nouns\n",
    "     (r'^-?[0-9]+(\\.[0-9]+)?$', 'NUM'),        # cardinal numbers\n",
    "     (r'\\w+(ly|wards&|wise)$', 'ADV'),                           # adverbs \n",
    "     (r'\\w+(ness|ion|istism|ship|ity|ment|hood)$', 'NOUN'),      # nouns (suffixes)\n",
    "     (r'\\w+(less|ous|like|ful|able)', 'ADJ'),                    # adjectives (default)\n",
    "     (r'[.,!?:;]', '.'),                      # punctutation\n",
    "     (r'.*', 'NOUN')                         # nouns (default)\n",
    "]"
   ]
  },
  {
   "cell_type": "code",
   "execution_count": 167,
   "id": "487be6b0",
   "metadata": {},
   "outputs": [
    {
     "data": {
      "text/plain": [
       "0.44353172553538084"
      ]
     },
     "execution_count": 167,
     "metadata": {},
     "output_type": "execute_result"
    }
   ],
   "source": [
    "regexp_tagger_2 = nltk.RegexpTagger(patterns_2)\n",
    "regexp_tagger_2.evaluate(treebank.tagged_sents(tagset='universal'))  # let's try with simplified tagset"
   ]
  },
  {
   "cell_type": "markdown",
   "id": "c785bba1",
   "metadata": {},
   "source": [
    "Not surprisingly, the simplified tagset gives higher accuracy with the same regexp patterns, since we do not have to predict the exact tag as in \"RB\", \"RB$\", \"RB+BEZ\", \"RB+BEZ-HL\" etc."
   ]
  },
  {
   "cell_type": "markdown",
   "id": "5cf50423",
   "metadata": {},
   "source": [
    "__◑ How serious is the sparse data problem? Investigate the performance of n-gram taggers as n increases from 1 to 6. Tabulate the accuracy score. Estimate the training data required for these taggers, assuming a vocabulary size of 105 and a tagset size of 102.__"
   ]
  },
  {
   "cell_type": "code",
   "execution_count": 184,
   "id": "07d4c0cb",
   "metadata": {
    "scrolled": true
   },
   "outputs": [],
   "source": [
    "from matplotlib import pyplot as plt\n",
    "results = []\n",
    "ngrams = []\n",
    "\n",
    "for ngram in range(1,7):\n",
    "    model = nltk.NgramTagger(ngram, brown.tagged_sents()[slice:])\n",
    "    results.append(model.evaluate(brown.tagged_sents()[slice:]))\n",
    "    ngrams.append(ngram)"
   ]
  },
  {
   "cell_type": "code",
   "execution_count": 188,
   "id": "c4fea5c3",
   "metadata": {
    "scrolled": true
   },
   "outputs": [
    {
     "data": {
      "image/png": "[encoded data removed]",
      "text/plain": [
       "<Figure size 576x360 with 1 Axes>"
      ]
     },
     "metadata": {
      "needs_background": "light"
     },
     "output_type": "display_data"
    }
   ],
   "source": [
    "plt.figure(figsize=(8,5))\n",
    "plt.plot(ngrams, results)\n",
    "plt.xlabel(\"Ngrams\")\n",
    "plt.ylabel(\"Accuracy\")\n",
    "plt.show()"
   ]
  },
  {
   "cell_type": "markdown",
   "id": "1ba5d264",
   "metadata": {},
   "source": [
    "I am quite surprised to see that the higher is the N in grams, the better is the accuracy, at least in the rabge from 1 to 6. The worst performing ngrams are bigrams and trigrams"
   ]
  },
  {
   "cell_type": "markdown",
   "id": "adab5ef7",
   "metadata": {},
   "source": [
    "__◑ Obtain some tagged data for another language, and train and evaluate a variety of taggers on it. If the language is morphologically complex, or if there are any orthographic clues (e.g. capitalization) to word classes, consider developing a regular expression tagger for it (ordered after the unigram tagger, and before the default tagger). How does the accuracy of your tagger(s) compare with the same taggers run on English data? Discuss any issues you encounter in applying these methods to the language.__"
   ]
  },
  {
   "cell_type": "code",
   "execution_count": null,
   "id": "2b7e476d",
   "metadata": {},
   "outputs": [],
   "source": []
  },
  {
   "cell_type": "code",
   "execution_count": null,
   "id": "eab2e4ae",
   "metadata": {},
   "outputs": [],
   "source": []
  },
  {
   "cell_type": "markdown",
   "id": "a0696b78",
   "metadata": {},
   "source": [
    "__◑ 4.1 plotted a curve showing change in the performance of a lookup tagger as the model size was increased. Plot the performance curve for a unigram tagger, as the amount of training data is varied.__"
   ]
  },
  {
   "cell_type": "code",
   "execution_count": 218,
   "id": "96b91b82",
   "metadata": {
    "scrolled": true
   },
   "outputs": [],
   "source": [
    "perfs = []\n",
    "for percent in list(range(10, 90, 10)):\n",
    "    slice_ = int(len(brown.tagged_sents()) * (percent/100))\n",
    "    model = nltk.UnigramTagger(brown.tagged_sents()[:slice_])\n",
    "    perfs.append(model.evaluate(brown.tagged_sents()[slice_:]))"
   ]
  },
  {
   "cell_type": "code",
   "execution_count": 290,
   "id": "48ee792b",
   "metadata": {},
   "outputs": [],
   "source": [
    "def display_vocab_size():\n",
    "    import pylab\n",
    "    pylab.plot(list(range(10, 90, 10)), perfs, '-bo')\n",
    "    pylab.title('Lookup Tagger Performance with Varying Vocab Size')\n",
    "    pylab.xlabel('Vocab Size in Percentage')\n",
    "    pylab.ylabel('Performance')\n",
    "    pylab.show()"
   ]
  },
  {
   "cell_type": "code",
   "execution_count": 291,
   "id": "073694bf",
   "metadata": {},
   "outputs": [
    {
     "data": {
      "image/png": "[encoded data removed]",
      "text/plain": [
       "<Figure size 432x288 with 1 Axes>"
      ]
     },
     "metadata": {
      "needs_background": "light"
     },
     "output_type": "display_data"
    }
   ],
   "source": [
    "display_vocab_size()"
   ]
  },
  {
   "cell_type": "markdown",
   "id": "22d7796f",
   "metadata": {},
   "source": [
    "__◑ Inspect the confusion matrix for the bigram tagger t2 defined in 5, and identify one or more sets of tags to collapse. Define a dictionary to do the mapping, and evaluate the tagger on the simplified data.__"
   ]
  },
  {
   "cell_type": "code",
   "execution_count": 18,
   "id": "4dd3ccc2",
   "metadata": {},
   "outputs": [],
   "source": [
    "size = int(len(brown.tagged_sents()) * 0.9)\n",
    "train_sents = brown.tagged_sents()[:size]\n",
    "t0 = nltk.DefaultTagger('NN')\n",
    "t1 = nltk.UnigramTagger(train_sents, backoff=t0)\n",
    "t2 = nltk.BigramTagger(train_sents, backoff=t1)"
   ]
  },
  {
   "cell_type": "code",
   "execution_count": 233,
   "id": "f8697380",
   "metadata": {},
   "outputs": [
    {
     "name": "stdout",
     "output_type": "stream",
     "text": [
      "[[ 19   0   0 ...   0   0   0]\n",
      " [  0 382   0 ...   0   0   0]\n",
      " [  0   0  95 ...   0   0   0]\n",
      " ...\n",
      " [  0   0   0 ... 238   0   0]\n",
      " [  0   0   0 ...   2   1   0]\n",
      " [  0   0   0 ...   0   0 396]]\n"
     ]
    }
   ],
   "source": [
    "test_tags = [tag for sent in brown.sents(categories='editorial')\n",
    "                 for (word, tag) in t2.tag(sent)]\n",
    "gold_tags = [tag for (word, tag) in brown.tagged_words(categories='editorial')]\n",
    "print(confusion_matrix(gold_tags, test_tags))   # too many tags in the confusion matrix, so it does not fit neatly in my screen"
   ]
  },
  {
   "cell_type": "code",
   "execution_count": null,
   "id": "ed8489bc",
   "metadata": {},
   "outputs": [],
   "source": [
    "# I will come back to this one later"
   ]
  },
  {
   "cell_type": "markdown",
   "id": "3ec8cc20",
   "metadata": {},
   "source": [
    "__◑ Experiment with taggers using the simplified tagset (or make one of your own by discarding all but the first character of each tag name). Such a tagger has fewer distinctions to make, but much less information on which to base its work. Discuss your findings.__"
   ]
  },
  {
   "cell_type": "code",
   "execution_count": 234,
   "id": "eacc4fae",
   "metadata": {},
   "outputs": [
    {
     "data": {
      "text/plain": [
       "0.9738070642456991"
      ]
     },
     "execution_count": 234,
     "metadata": {},
     "output_type": "execute_result"
    }
   ],
   "source": [
    "# I already implemented a Regexp Tagger with simplified tagset from treebank, so now I will try out ngram taggers\n",
    "size_ = int(len(treebank.tagged_sents(tagset='universal')) * 0.9)\n",
    "train_simplified = treebank.tagged_sents(tagset='universal')[:size]\n",
    "test_simplified = treebank.tagged_sents(tagset='universal')[:size]\n",
    "\n",
    "unigram_tagger = nltk.UnigramTagger(train_simplified)\n",
    "unigram_tagger.evaluate(test_simplified)"
   ]
  },
  {
   "cell_type": "code",
   "execution_count": 235,
   "id": "e50548df",
   "metadata": {},
   "outputs": [
    {
     "data": {
      "text/plain": [
       "0.9333902816957368"
      ]
     },
     "execution_count": 235,
     "metadata": {},
     "output_type": "execute_result"
    }
   ],
   "source": [
    "bigram_tagger = nltk.BigramTagger(train_simplified)\n",
    "bigram_tagger.evaluate(test_simplified)"
   ]
  },
  {
   "cell_type": "code",
   "execution_count": 239,
   "id": "5c839724",
   "metadata": {},
   "outputs": [],
   "source": [
    "results_simple = []\n",
    "\n",
    "for ngram in range(1,7):\n",
    "    model = nltk.NgramTagger(ngram, train_simplified)\n",
    "    results_simple.append(model.evaluate(test_simplified))"
   ]
  },
  {
   "cell_type": "code",
   "execution_count": 240,
   "id": "82c4e5f5",
   "metadata": {
    "scrolled": true
   },
   "outputs": [
    {
     "data": {
      "image/png": "[encoded data removed]",
      "text/plain": [
       "<Figure size 576x360 with 1 Axes>"
      ]
     },
     "metadata": {
      "needs_background": "light"
     },
     "output_type": "display_data"
    }
   ],
   "source": [
    "plt.figure(figsize=(8,5))\n",
    "plt.plot(range(1,7), results_simple)\n",
    "plt.xlabel(\"Ngrams\")\n",
    "plt.ylabel(\"Accuracy\")\n",
    "plt.show()"
   ]
  },
  {
   "cell_type": "markdown",
   "id": "28c26a9b",
   "metadata": {},
   "source": [
    "Quite similar tendency as with the brown corpus, yet the overall accuracy is higher than in brown corpus since the tags are simplified"
   ]
  },
  {
   "cell_type": "markdown",
   "id": "54719f8a",
   "metadata": {},
   "source": [
    "__◑ Recall the example of a bigram tagger which encountered a word it hadn't seen during training, and tagged the rest of the sentence as None. It is possible for a bigram tagger to fail part way through a sentence even if it contains no unseen words (even if the sentence was used during training). In what circumstance can this happen? Can you write a program to find some examples of this?__"
   ]
  },
  {
   "cell_type": "markdown",
   "id": "36dc956c",
   "metadata": {},
   "source": [
    "It reminds me of a question I recently encounter on stackoverflow. The question can be found here https://stackoverflow.com/questions/26739505/python-nltk-ngram-tagger-with-token-context-rather-than-tag-context  \n",
    "\n",
    "I guess the problem that was described there answers to this question. Bigrams tagger looks at the previous tag, while in some cases (as in the case of the question in stackoverflow) looking at the previuos word itslef might be preferable. The way how to do it in Python is already up on stackoverflow."
   ]
  },
  {
   "cell_type": "code",
   "execution_count": 241,
   "id": "bb3eadc7",
   "metadata": {},
   "outputs": [],
   "source": [
    "class myNgramTagger(nltk.NgramTagger):\n",
    "    \"\"\"\n",
    "    My override of the NLTK NgramTagger class that considers previous\n",
    "    tokens rather than previous tags for context.\n",
    "    \"\"\"\n",
    "    def __init__(self, n, train=None, model=None,\n",
    "                 backoff=None, cutoff=0, verbose=False):\n",
    "        nltk.NgramTagger.__init__(self, n, train, model, backoff, cutoff, verbose)\n",
    "\n",
    "    def context(self, tokens, index, history):\n",
    "        #tag_context = tuple(history[max(0,index-self._n+1):index])\n",
    "        tag_context = tuple(tokens[max(0,index-self._n+1):index])\n",
    "        return tag_context, tokens[index]"
   ]
  },
  {
   "cell_type": "code",
   "execution_count": 19,
   "id": "7f22e0d8",
   "metadata": {
    "scrolled": true
   },
   "outputs": [
    {
     "ename": "NameError",
     "evalue": "name 'myNgramTagger' is not defined",
     "output_type": "error",
     "traceback": [
      "\u001b[1;31m---------------------------------------------------------------------------\u001b[0m",
      "\u001b[1;31mNameError\u001b[0m                                 Traceback (most recent call last)",
      "\u001b[1;32m<ipython-input-19-538002b2a94f>\u001b[0m in \u001b[0;36m<module>\u001b[1;34m\u001b[0m\n\u001b[0;32m      1\u001b[0m \u001b[0mtest_sents\u001b[0m \u001b[1;33m=\u001b[0m \u001b[0mbrown\u001b[0m\u001b[1;33m.\u001b[0m\u001b[0mtagged_sents\u001b[0m\u001b[1;33m(\u001b[0m\u001b[1;33m)\u001b[0m\u001b[1;33m[\u001b[0m\u001b[0msize\u001b[0m\u001b[1;33m:\u001b[0m\u001b[1;33m]\u001b[0m\u001b[1;33m\u001b[0m\u001b[1;33m\u001b[0m\u001b[0m\n\u001b[1;32m----> 2\u001b[1;33m \u001b[0mmodel_bi_new\u001b[0m \u001b[1;33m=\u001b[0m \u001b[0mmyNgramTagger\u001b[0m\u001b[1;33m(\u001b[0m\u001b[1;36m2\u001b[0m\u001b[1;33m,\u001b[0m \u001b[0mtrain_sents\u001b[0m\u001b[1;33m)\u001b[0m\u001b[1;33m\u001b[0m\u001b[1;33m\u001b[0m\u001b[0m\n\u001b[0m\u001b[0;32m      3\u001b[0m \u001b[0mmodel_bi_new\u001b[0m\u001b[1;33m.\u001b[0m\u001b[0mevaluate\u001b[0m\u001b[1;33m(\u001b[0m\u001b[0mtest_sents\u001b[0m\u001b[1;33m)\u001b[0m  \u001b[1;31m# Well, Brown is not an example of a corpus that needs to be tagged this way, this is only to demonstrate\u001b[0m\u001b[1;33m\u001b[0m\u001b[1;33m\u001b[0m\u001b[0m\n",
      "\u001b[1;31mNameError\u001b[0m: name 'myNgramTagger' is not defined"
     ]
    }
   ],
   "source": [
    "test_sents = brown.tagged_sents()[size:]\n",
    "model_bi_new = myNgramTagger(2, train_sents)\n",
    "model_bi_new.evaluate(test_sents)  # Well, Brown is not an example of a corpus that needs to be tagged this way, this is only to demonstrate"
   ]
  },
  {
   "cell_type": "markdown",
   "id": "90dd4bcb",
   "metadata": {},
   "source": [
    "__◑ Preprocess the Brown News data by replacing low frequency words with UNK, but leaving the tags untouched. Now train and evaluate a bigram tagger on this data. How much does this help? What is the contribution of the unigram tagger and default tagger now?__"
   ]
  },
  {
   "cell_type": "code",
   "execution_count": 257,
   "id": "9b5cbadb",
   "metadata": {},
   "outputs": [],
   "source": [
    "all_news_words = [w.lower() for w in brown.words(categories=\"news\")]\n",
    "freq_news = nltk.FreqDist(all_news_words)\n",
    "# all_news_tags = [(w.lower(), tag) for (w, tag) in brown.tagged_words(categories=\"news\")]"
   ]
  },
  {
   "cell_type": "code",
   "execution_count": 252,
   "id": "81c12967",
   "metadata": {},
   "outputs": [],
   "source": [
    "least_ = int(len(freq_news) * 0.1)\n",
    "least_freq = sorted(freq_news.items(), key = itemgetter(1))[:least_]"
   ]
  },
  {
   "cell_type": "code",
   "execution_count": 281,
   "id": "70abce33",
   "metadata": {},
   "outputs": [],
   "source": [
    "sentences_news = [list()for _ in range(len(brown.tagged_sents(categories=\"news\")))]\n",
    "for idx, sent in enumerate(brown.tagged_sents(categories=\"news\")):\n",
    "    for (w, tag) in sent:\n",
    "        if w in least_freq:\n",
    "            sentences_news[idx].append((\"UNK\", tag))\n",
    "        else:\n",
    "            sentences_news[idx].append((w, tag))"
   ]
  },
  {
   "cell_type": "code",
   "execution_count": 283,
   "id": "24b38fd9",
   "metadata": {},
   "outputs": [],
   "source": [
    "size_news = int(len(sentences_news) * 0.9)\n",
    "train_news = sentences_news[:size_news]\n",
    "test_news = sentences_news[size_news:]"
   ]
  },
  {
   "cell_type": "code",
   "execution_count": 284,
   "id": "216a0a19",
   "metadata": {},
   "outputs": [],
   "source": [
    "model_1 = nltk.DefaultTagger('NN')\n",
    "model_2 = nltk.UnigramTagger(train_news, backoff=model_1)\n",
    "model_3 = nltk.BigramTagger(train_news, backoff=model_2)"
   ]
  },
  {
   "cell_type": "code",
   "execution_count": 285,
   "id": "01e96f4f",
   "metadata": {},
   "outputs": [
    {
     "data": {
      "text/plain": [
       "0.8452108043456593"
      ]
     },
     "execution_count": 285,
     "metadata": {},
     "output_type": "execute_result"
    }
   ],
   "source": [
    "model_3.evaluate(test_news) # compared to 0.844513 when he model was used with all tagged brown_sents (no UNK replacement)"
   ]
  },
  {
   "cell_type": "markdown",
   "id": "2e88b365",
   "metadata": {},
   "source": [
    "__◑ Modify the program in 4.1 to use a logarithmic scale on the x-axis, by replacing pylab.plot() with pylab.semilogx(). What do you notice about the shape of the resulting plot? Does the gradient tell you anything?__"
   ]
  },
  {
   "cell_type": "code",
   "execution_count": 292,
   "id": "3ad2615a",
   "metadata": {},
   "outputs": [
    {
     "data": {
      "image/png": "[encoded data removed]",
      "text/plain": [
       "<Figure size 432x288 with 1 Axes>"
      ]
     },
     "metadata": {
      "needs_background": "light"
     },
     "output_type": "display_data"
    }
   ],
   "source": [
    "def performance(cfd, wordlist):\n",
    "    lt = dict((word, cfd[word].max()) for word in wordlist)\n",
    "    baseline_tagger = nltk.UnigramTagger(model=lt, backoff=nltk.DefaultTagger('NN'))\n",
    "    return baseline_tagger.evaluate(brown.tagged_sents(categories='news'))\n",
    "\n",
    "def display_2():\n",
    "    import pylab\n",
    "    word_freqs = nltk.FreqDist(brown.words(categories='news')).most_common()\n",
    "    words_by_freq = [w for (w, _) in word_freqs]\n",
    "    cfd = nltk.ConditionalFreqDist(brown.tagged_words(categories='news'))\n",
    "    sizes = 2 ** pylab.arange(15)\n",
    "    perfs = [performance(cfd, words_by_freq[:size]) for size in sizes]\n",
    "    pylab.semilogx(sizes, perfs, '-bo')\n",
    "    pylab.title('Lookup Tagger Performance with Varying Model Size')\n",
    "    pylab.xlabel('Model Size')\n",
    "    pylab.ylabel('Performance')\n",
    "    pylab.show()\n",
    "\n",
    "display_2()"
   ]
  },
  {
   "cell_type": "markdown",
   "id": "f29e0d52",
   "metadata": {},
   "source": [
    "__◑ Consult the documentation for the Brill tagger demo function, using help(nltk.tag.brill.demo). Experiment with the tagger by setting different values for the parameters. Is there any trade-off between training time (corpus size) and performance?__"
   ]
  },
  {
   "cell_type": "code",
   "execution_count": 294,
   "id": "17c2036f",
   "metadata": {},
   "outputs": [
    {
     "name": "stdout",
     "output_type": "stream",
     "text": [
      "Help on module nltk.tag.brill in nltk.tag:\n",
      "\n",
      "NAME\n",
      "    nltk.tag.brill\n",
      "\n",
      "DESCRIPTION\n",
      "    # -*- coding: utf-8 -*-\n",
      "    # Natural Language Toolkit: Transformation-based learning\n",
      "    #\n",
      "    # Copyright (C) 2001-2021 NLTK Project\n",
      "    # Author: Marcus Uneson <marcus.uneson@gmail.com>\n",
      "    #   based on previous (nltk2) version by\n",
      "    #   Christopher Maloof, Edward Loper, Steven Bird\n",
      "    # URL: <http://nltk.org/>\n",
      "    # For license information, see  LICENSE.TXT\n",
      "\n",
      "CLASSES\n",
      "    nltk.tag.api.TaggerI(builtins.object)\n",
      "        BrillTagger\n",
      "    nltk.tbl.feature.Feature(builtins.object)\n",
      "        Pos\n",
      "        Word\n",
      "    \n",
      "    class BrillTagger(nltk.tag.api.TaggerI)\n",
      "     |  BrillTagger(initial_tagger, rules, training_stats=None)\n",
      "     |  \n",
      "     |  Brill's transformational rule-based tagger.  Brill taggers use an\n",
      "     |  initial tagger (such as ``tag.DefaultTagger``) to assign an initial\n",
      "     |  tag sequence to a text; and then apply an ordered list of\n",
      "     |  transformational rules to correct the tags of individual tokens.\n",
      "     |  These transformation rules are specified by the ``TagRule``\n",
      "     |  interface.\n",
      "     |  \n",
      "     |  Brill taggers can be created directly, from an initial tagger and\n",
      "     |  a list of transformational rules; but more often, Brill taggers\n",
      "     |  are created by learning rules from a training corpus, using one\n",
      "     |  of the TaggerTrainers available.\n",
      "     |  \n",
      "     |  Method resolution order:\n",
      "     |      BrillTagger\n",
      "     |      nltk.tag.api.TaggerI\n",
      "     |      builtins.object\n",
      "     |  \n",
      "     |  Methods defined here:\n",
      "     |  \n",
      "     |  __init__(self, initial_tagger, rules, training_stats=None)\n",
      "     |      :param initial_tagger: The initial tagger\n",
      "     |      :type initial_tagger: TaggerI\n",
      "     |      \n",
      "     |      :param rules: An ordered list of transformation rules that\n",
      "     |          should be used to correct the initial tagging.\n",
      "     |      :type rules: list(TagRule)\n",
      "     |      \n",
      "     |      :param training_stats: A dictionary of statistics collected\n",
      "     |          during training, for possible later use\n",
      "     |      :type training_stats: dict\n",
      "     |  \n",
      "     |  batch_tag_incremental(self, sequences, gold)\n",
      "     |      Tags by applying each rule to the entire corpus (rather than all rules to a\n",
      "     |      single sequence). The point is to collect statistics on the test set for\n",
      "     |      individual rules.\n",
      "     |      \n",
      "     |      NOTE: This is inefficient (does not build any index, so will traverse the entire\n",
      "     |      corpus N times for N rules) -- usually you would not care about statistics for\n",
      "     |      individual rules and thus use batch_tag() instead\n",
      "     |      \n",
      "     |      :param sequences: lists of token sequences (sentences, in some applications) to be tagged\n",
      "     |      :type sequences: list of list of strings\n",
      "     |      :param gold: the gold standard\n",
      "     |      :type gold: list of list of strings\n",
      "     |      :returns: tuple of (tagged_sequences, ordered list of rule scores (one for each rule))\n",
      "     |  \n",
      "     |  encode_json_obj(self)\n",
      "     |  \n",
      "     |  print_template_statistics(self, test_stats=None, printunused=True)\n",
      "     |      Print a list of all templates, ranked according to efficiency.\n",
      "     |      \n",
      "     |      If test_stats is available, the templates are ranked according to their\n",
      "     |      relative contribution (summed for all rules created from a given template,\n",
      "     |      weighted by score) to the performance on the test set. If no test_stats, then\n",
      "     |      statistics collected during training are used instead. There is also\n",
      "     |      an unweighted measure (just counting the rules). This is less informative,\n",
      "     |      though, as many low-score rules will appear towards end of training.\n",
      "     |      \n",
      "     |      :param test_stats: dictionary of statistics collected during testing\n",
      "     |      :type test_stats: dict of str -> any (but usually numbers)\n",
      "     |      :param printunused: if True, print a list of all unused templates\n",
      "     |      :type printunused: bool\n",
      "     |      :return: None\n",
      "     |      :rtype: None\n",
      "     |  \n",
      "     |  rules(self)\n",
      "     |      Return the ordered list of  transformation rules that this tagger has learnt\n",
      "     |      \n",
      "     |      :return: the ordered list of transformation rules that correct the initial tagging\n",
      "     |      :rtype: list of Rules\n",
      "     |  \n",
      "     |  tag(self, tokens)\n",
      "     |      Determine the most appropriate tag sequence for the given\n",
      "     |      token sequence, and return a corresponding list of tagged\n",
      "     |      tokens.  A tagged token is encoded as a tuple ``(token, tag)``.\n",
      "     |      \n",
      "     |      :rtype: list(tuple(str, str))\n",
      "     |  \n",
      "     |  train_stats(self, statistic=None)\n",
      "     |      Return a named statistic collected during training, or a dictionary of all\n",
      "     |      available statistics if no name given\n",
      "     |      \n",
      "     |      :param statistic: name of statistic\n",
      "     |      :type statistic: str\n",
      "     |      :return: some statistic collected during training of this tagger\n",
      "     |      :rtype: any (but usually a number)\n",
      "     |  \n",
      "     |  ----------------------------------------------------------------------\n",
      "     |  Class methods defined here:\n",
      "     |  \n",
      "     |  decode_json_obj(obj) from abc.ABCMeta\n",
      "     |  \n",
      "     |  ----------------------------------------------------------------------\n",
      "     |  Data and other attributes defined here:\n",
      "     |  \n",
      "     |  __abstractmethods__ = frozenset()\n",
      "     |  \n",
      "     |  json_tag = 'nltk.tag.BrillTagger'\n",
      "     |  \n",
      "     |  ----------------------------------------------------------------------\n",
      "     |  Methods inherited from nltk.tag.api.TaggerI:\n",
      "     |  \n",
      "     |  evaluate(self, gold)\n",
      "     |      Score the accuracy of the tagger against the gold standard.\n",
      "     |      Strip the tags from the gold standard text, retag it using\n",
      "     |      the tagger, then compute the accuracy score.\n",
      "     |      \n",
      "     |      :type gold: list(list(tuple(str, str)))\n",
      "     |      :param gold: The list of tagged sentences to score the tagger on.\n",
      "     |      :rtype: float\n",
      "     |  \n",
      "     |  tag_sents(self, sentences)\n",
      "     |      Apply ``self.tag()`` to each element of *sentences*.  I.e.:\n",
      "     |      \n",
      "     |          return [self.tag(sent) for sent in sentences]\n",
      "     |  \n",
      "     |  ----------------------------------------------------------------------\n",
      "     |  Data descriptors inherited from nltk.tag.api.TaggerI:\n",
      "     |  \n",
      "     |  __dict__\n",
      "     |      dictionary for instance variables (if defined)\n",
      "     |  \n",
      "     |  __weakref__\n",
      "     |      list of weak references to the object (if defined)\n",
      "    \n",
      "    class Pos(nltk.tbl.feature.Feature)\n",
      "     |  Pos(positions, end=None)\n",
      "     |  \n",
      "     |  Feature which examines the tags of nearby tokens.\n",
      "     |  \n",
      "     |  Method resolution order:\n",
      "     |      Pos\n",
      "     |      nltk.tbl.feature.Feature\n",
      "     |      builtins.object\n",
      "     |  \n",
      "     |  Static methods defined here:\n",
      "     |  \n",
      "     |  extract_property(tokens, index)\n",
      "     |      @return: The given token's tag.\n",
      "     |  \n",
      "     |  ----------------------------------------------------------------------\n",
      "     |  Data and other attributes defined here:\n",
      "     |  \n",
      "     |  __abstractmethods__ = frozenset()\n",
      "     |  \n",
      "     |  json_tag = 'nltk.tag.brill.Pos'\n",
      "     |  \n",
      "     |  ----------------------------------------------------------------------\n",
      "     |  Methods inherited from nltk.tbl.feature.Feature:\n",
      "     |  \n",
      "     |  __eq__(self, other)\n",
      "     |      Return self==value.\n",
      "     |  \n",
      "     |  __ge__(self, other)\n",
      "     |      Return self>=value.\n",
      "     |  \n",
      "     |  __gt__(self, other)\n",
      "     |      Return self>value.\n",
      "     |  \n",
      "     |  __init__(self, positions, end=None)\n",
      "     |      Construct a Feature which may apply at C{positions}.\n",
      "     |      \n",
      "     |      #For instance, importing some concrete subclasses (Feature is abstract)\n",
      "     |      >>> from nltk.tag.brill import Word, Pos\n",
      "     |      \n",
      "     |      #Feature Word, applying at one of [-2, -1]\n",
      "     |      >>> Word([-2,-1])\n",
      "     |      Word([-2, -1])\n",
      "     |      \n",
      "     |      #Positions need not be contiguous\n",
      "     |      >>> Word([-2,-1, 1])\n",
      "     |      Word([-2, -1, 1])\n",
      "     |      \n",
      "     |      #Contiguous ranges can alternatively be specified giving the\n",
      "     |      #two endpoints (inclusive)\n",
      "     |      >>> Pos(-3, -1)\n",
      "     |      Pos([-3, -2, -1])\n",
      "     |      \n",
      "     |      #In two-arg form, start <= end is enforced\n",
      "     |      >>> Pos(2, 1)\n",
      "     |      Traceback (most recent call last):\n",
      "     |        File \"<stdin>\", line 1, in <module>\n",
      "     |        File \"nltk/tbl/template.py\", line 306, in __init__\n",
      "     |          raise TypeError\n",
      "     |      ValueError: illegal interval specification: (start=2, end=1)\n",
      "     |      \n",
      "     |      :type positions: list of int\n",
      "     |      :param positions: the positions at which this features should apply\n",
      "     |      :raises ValueError: illegal position specifications\n",
      "     |      \n",
      "     |      An alternative calling convention, for contiguous positions only,\n",
      "     |      is Feature(start, end):\n",
      "     |      \n",
      "     |      :type start: int\n",
      "     |      :param start: start of range where this feature should apply\n",
      "     |      :type end: int\n",
      "     |      :param end: end of range (NOTE: inclusive!) where this feature should apply\n",
      "     |  \n",
      "     |  __le__(self, other)\n",
      "     |      Return self<=value.\n",
      "     |  \n",
      "     |  __lt__(self, other)\n",
      "     |      Return self<value.\n",
      "     |  \n",
      "     |  __ne__(self, other)\n",
      "     |      Return self!=value.\n",
      "     |  \n",
      "     |  __repr__(self)\n",
      "     |      Return repr(self).\n",
      "     |  \n",
      "     |  encode_json_obj(self)\n",
      "     |  \n",
      "     |  intersects(self, other)\n",
      "     |      Return True if the positions of this Feature intersects with those of other\n",
      "     |      \n",
      "     |      More precisely, return True if this feature refers to the same property as other;\n",
      "     |      and there is some overlap in the positions they look at.\n",
      "     |      \n",
      "     |      #For instance, importing a concrete subclass (Feature is abstract)\n",
      "     |      >>> from nltk.tag.brill import Word, Pos\n",
      "     |      \n",
      "     |      >>> Word([-3,-2,-1]).intersects(Word([-3,-2]))\n",
      "     |      True\n",
      "     |      \n",
      "     |      >>> Word([-3,-2,-1]).intersects(Word([-3,-2, 0]))\n",
      "     |      True\n",
      "     |      \n",
      "     |      >>> Word([-3,-2,-1]).intersects(Word([0]))\n",
      "     |      False\n",
      "     |      \n",
      "     |      #Feature subclasses must agree\n",
      "     |      >>> Word([-3,-2,-1]).intersects(Pos([-3,-2]))\n",
      "     |      False\n",
      "     |      \n",
      "     |      :param other: feature with which to compare\n",
      "     |      :type other: (subclass of) Feature\n",
      "     |      :return: True if feature classes agree and there is some overlap in the positions they look at\n",
      "     |      :rtype: bool\n",
      "     |  \n",
      "     |  issuperset(self, other)\n",
      "     |      Return True if this Feature always returns True when other does\n",
      "     |      \n",
      "     |      More precisely, return True if this feature refers to the same property as other;\n",
      "     |      and this Feature looks at all positions that other does (and possibly\n",
      "     |      other positions in addition).\n",
      "     |      \n",
      "     |      #For instance, importing a concrete subclass (Feature is abstract)\n",
      "     |      >>> from nltk.tag.brill import Word, Pos\n",
      "     |      \n",
      "     |      >>> Word([-3,-2,-1]).issuperset(Word([-3,-2]))\n",
      "     |      True\n",
      "     |      \n",
      "     |      >>> Word([-3,-2,-1]).issuperset(Word([-3,-2, 0]))\n",
      "     |      False\n",
      "     |      \n",
      "     |      #Feature subclasses must agree\n",
      "     |      >>> Word([-3,-2,-1]).issuperset(Pos([-3,-2]))\n",
      "     |      False\n",
      "     |      \n",
      "     |      :param other: feature with which to compare\n",
      "     |      :type other: (subclass of) Feature\n",
      "     |      :return: True if this feature is superset, otherwise False\n",
      "     |      :rtype: bool\n",
      "     |  \n",
      "     |  ----------------------------------------------------------------------\n",
      "     |  Class methods inherited from nltk.tbl.feature.Feature:\n",
      "     |  \n",
      "     |  decode_json_obj(obj) from abc.ABCMeta\n",
      "     |  \n",
      "     |  expand(starts, winlens, excludezero=False) from abc.ABCMeta\n",
      "     |      Return a list of features, one for each start point in starts\n",
      "     |      and for each window length in winlen. If excludezero is True,\n",
      "     |      no Features containing 0 in its positions will be generated\n",
      "     |      (many tbl trainers have a special representation for the\n",
      "     |      target feature at [0])\n",
      "     |      \n",
      "     |      For instance, importing a concrete subclass (Feature is abstract)\n",
      "     |      >>> from nltk.tag.brill import Word\n",
      "     |      \n",
      "     |      First argument gives the possible start positions, second the\n",
      "     |      possible window lengths\n",
      "     |      >>> Word.expand([-3,-2,-1], [1])\n",
      "     |      [Word([-3]), Word([-2]), Word([-1])]\n",
      "     |      \n",
      "     |      >>> Word.expand([-2,-1], [1])\n",
      "     |      [Word([-2]), Word([-1])]\n",
      "     |      \n",
      "     |      >>> Word.expand([-3,-2,-1], [1,2])\n",
      "     |      [Word([-3]), Word([-2]), Word([-1]), Word([-3, -2]), Word([-2, -1])]\n",
      "     |      \n",
      "     |      >>> Word.expand([-2,-1], [1])\n",
      "     |      [Word([-2]), Word([-1])]\n",
      "     |      \n",
      "     |      a third optional argument excludes all Features whose positions contain zero\n",
      "     |      >>> Word.expand([-2,-1,0], [1,2], excludezero=False)\n",
      "     |      [Word([-2]), Word([-1]), Word([0]), Word([-2, -1]), Word([-1, 0])]\n",
      "     |      \n",
      "     |      >>> Word.expand([-2,-1,0], [1,2], excludezero=True)\n",
      "     |      [Word([-2]), Word([-1]), Word([-2, -1])]\n",
      "     |      \n",
      "     |      All window lengths must be positive\n",
      "     |      >>> Word.expand([-2,-1], [0])\n",
      "     |      Traceback (most recent call last):\n",
      "     |        File \"<stdin>\", line 1, in <module>\n",
      "     |        File \"nltk/tag/tbl/template.py\", line 371, in expand\n",
      "     |          :param starts: where to start looking for Feature\n",
      "     |      ValueError: non-positive window length in [0]\n",
      "     |      \n",
      "     |      :param starts: where to start looking for Feature\n",
      "     |      :type starts: list of ints\n",
      "     |      :param winlens: window lengths where to look for Feature\n",
      "     |      :type starts: list of ints\n",
      "     |      :param excludezero: do not output any Feature with 0 in any of its positions.\n",
      "     |      :type excludezero: bool\n",
      "     |      :returns: list of Features\n",
      "     |      :raises ValueError: for non-positive window lengths\n",
      "     |  \n",
      "     |  ----------------------------------------------------------------------\n",
      "     |  Data descriptors inherited from nltk.tbl.feature.Feature:\n",
      "     |  \n",
      "     |  __dict__\n",
      "     |      dictionary for instance variables (if defined)\n",
      "     |  \n",
      "     |  __weakref__\n",
      "     |      list of weak references to the object (if defined)\n",
      "     |  \n",
      "     |  ----------------------------------------------------------------------\n",
      "     |  Data and other attributes inherited from nltk.tbl.feature.Feature:\n",
      "     |  \n",
      "     |  PROPERTY_NAME = None\n",
      "     |  \n",
      "     |  __hash__ = None\n",
      "    \n",
      "    class Word(nltk.tbl.feature.Feature)\n",
      "     |  Word(positions, end=None)\n",
      "     |  \n",
      "     |  Feature which examines the text (word) of nearby tokens.\n",
      "     |  \n",
      "     |  Method resolution order:\n",
      "     |      Word\n",
      "     |      nltk.tbl.feature.Feature\n",
      "     |      builtins.object\n",
      "     |  \n",
      "     |  Static methods defined here:\n",
      "     |  \n",
      "     |  extract_property(tokens, index)\n",
      "     |      @return: The given token's text.\n",
      "     |  \n",
      "     |  ----------------------------------------------------------------------\n",
      "     |  Data and other attributes defined here:\n",
      "     |  \n",
      "     |  __abstractmethods__ = frozenset()\n",
      "     |  \n",
      "     |  json_tag = 'nltk.tag.brill.Word'\n",
      "     |  \n",
      "     |  ----------------------------------------------------------------------\n",
      "     |  Methods inherited from nltk.tbl.feature.Feature:\n",
      "     |  \n",
      "     |  __eq__(self, other)\n",
      "     |      Return self==value.\n",
      "     |  \n",
      "     |  __ge__(self, other)\n",
      "     |      Return self>=value.\n",
      "     |  \n",
      "     |  __gt__(self, other)\n",
      "     |      Return self>value.\n",
      "     |  \n",
      "     |  __init__(self, positions, end=None)\n",
      "     |      Construct a Feature which may apply at C{positions}.\n",
      "     |      \n",
      "     |      #For instance, importing some concrete subclasses (Feature is abstract)\n",
      "     |      >>> from nltk.tag.brill import Word, Pos\n",
      "     |      \n",
      "     |      #Feature Word, applying at one of [-2, -1]\n",
      "     |      >>> Word([-2,-1])\n",
      "     |      Word([-2, -1])\n",
      "     |      \n",
      "     |      #Positions need not be contiguous\n",
      "     |      >>> Word([-2,-1, 1])\n",
      "     |      Word([-2, -1, 1])\n",
      "     |      \n",
      "     |      #Contiguous ranges can alternatively be specified giving the\n",
      "     |      #two endpoints (inclusive)\n",
      "     |      >>> Pos(-3, -1)\n",
      "     |      Pos([-3, -2, -1])\n",
      "     |      \n",
      "     |      #In two-arg form, start <= end is enforced\n",
      "     |      >>> Pos(2, 1)\n",
      "     |      Traceback (most recent call last):\n",
      "     |        File \"<stdin>\", line 1, in <module>\n",
      "     |        File \"nltk/tbl/template.py\", line 306, in __init__\n",
      "     |          raise TypeError\n",
      "     |      ValueError: illegal interval specification: (start=2, end=1)\n",
      "     |      \n",
      "     |      :type positions: list of int\n",
      "     |      :param positions: the positions at which this features should apply\n",
      "     |      :raises ValueError: illegal position specifications\n",
      "     |      \n",
      "     |      An alternative calling convention, for contiguous positions only,\n",
      "     |      is Feature(start, end):\n",
      "     |      \n",
      "     |      :type start: int\n",
      "     |      :param start: start of range where this feature should apply\n",
      "     |      :type end: int\n",
      "     |      :param end: end of range (NOTE: inclusive!) where this feature should apply\n",
      "     |  \n",
      "     |  __le__(self, other)\n",
      "     |      Return self<=value.\n",
      "     |  \n",
      "     |  __lt__(self, other)\n",
      "     |      Return self<value.\n",
      "     |  \n",
      "     |  __ne__(self, other)\n",
      "     |      Return self!=value.\n",
      "     |  \n",
      "     |  __repr__(self)\n",
      "     |      Return repr(self).\n",
      "     |  \n",
      "     |  encode_json_obj(self)\n",
      "     |  \n",
      "     |  intersects(self, other)\n",
      "     |      Return True if the positions of this Feature intersects with those of other\n",
      "     |      \n",
      "     |      More precisely, return True if this feature refers to the same property as other;\n",
      "     |      and there is some overlap in the positions they look at.\n",
      "     |      \n",
      "     |      #For instance, importing a concrete subclass (Feature is abstract)\n",
      "     |      >>> from nltk.tag.brill import Word, Pos\n",
      "     |      \n",
      "     |      >>> Word([-3,-2,-1]).intersects(Word([-3,-2]))\n",
      "     |      True\n",
      "     |      \n",
      "     |      >>> Word([-3,-2,-1]).intersects(Word([-3,-2, 0]))\n",
      "     |      True\n",
      "     |      \n",
      "     |      >>> Word([-3,-2,-1]).intersects(Word([0]))\n",
      "     |      False\n",
      "     |      \n",
      "     |      #Feature subclasses must agree\n",
      "     |      >>> Word([-3,-2,-1]).intersects(Pos([-3,-2]))\n",
      "     |      False\n",
      "     |      \n",
      "     |      :param other: feature with which to compare\n",
      "     |      :type other: (subclass of) Feature\n",
      "     |      :return: True if feature classes agree and there is some overlap in the positions they look at\n",
      "     |      :rtype: bool\n",
      "     |  \n",
      "     |  issuperset(self, other)\n",
      "     |      Return True if this Feature always returns True when other does\n",
      "     |      \n",
      "     |      More precisely, return True if this feature refers to the same property as other;\n",
      "     |      and this Feature looks at all positions that other does (and possibly\n",
      "     |      other positions in addition).\n",
      "     |      \n",
      "     |      #For instance, importing a concrete subclass (Feature is abstract)\n",
      "     |      >>> from nltk.tag.brill import Word, Pos\n",
      "     |      \n",
      "     |      >>> Word([-3,-2,-1]).issuperset(Word([-3,-2]))\n",
      "     |      True\n",
      "     |      \n",
      "     |      >>> Word([-3,-2,-1]).issuperset(Word([-3,-2, 0]))\n",
      "     |      False\n",
      "     |      \n",
      "     |      #Feature subclasses must agree\n",
      "     |      >>> Word([-3,-2,-1]).issuperset(Pos([-3,-2]))\n",
      "     |      False\n",
      "     |      \n",
      "     |      :param other: feature with which to compare\n",
      "     |      :type other: (subclass of) Feature\n",
      "     |      :return: True if this feature is superset, otherwise False\n",
      "     |      :rtype: bool\n",
      "     |  \n",
      "     |  ----------------------------------------------------------------------\n",
      "     |  Class methods inherited from nltk.tbl.feature.Feature:\n",
      "     |  \n",
      "     |  decode_json_obj(obj) from abc.ABCMeta\n",
      "     |  \n",
      "     |  expand(starts, winlens, excludezero=False) from abc.ABCMeta\n",
      "     |      Return a list of features, one for each start point in starts\n",
      "     |      and for each window length in winlen. If excludezero is True,\n",
      "     |      no Features containing 0 in its positions will be generated\n",
      "     |      (many tbl trainers have a special representation for the\n",
      "     |      target feature at [0])\n",
      "     |      \n",
      "     |      For instance, importing a concrete subclass (Feature is abstract)\n",
      "     |      >>> from nltk.tag.brill import Word\n",
      "     |      \n",
      "     |      First argument gives the possible start positions, second the\n",
      "     |      possible window lengths\n",
      "     |      >>> Word.expand([-3,-2,-1], [1])\n",
      "     |      [Word([-3]), Word([-2]), Word([-1])]\n",
      "     |      \n",
      "     |      >>> Word.expand([-2,-1], [1])\n",
      "     |      [Word([-2]), Word([-1])]\n",
      "     |      \n",
      "     |      >>> Word.expand([-3,-2,-1], [1,2])\n",
      "     |      [Word([-3]), Word([-2]), Word([-1]), Word([-3, -2]), Word([-2, -1])]\n",
      "     |      \n",
      "     |      >>> Word.expand([-2,-1], [1])\n",
      "     |      [Word([-2]), Word([-1])]\n",
      "     |      \n",
      "     |      a third optional argument excludes all Features whose positions contain zero\n",
      "     |      >>> Word.expand([-2,-1,0], [1,2], excludezero=False)\n",
      "     |      [Word([-2]), Word([-1]), Word([0]), Word([-2, -1]), Word([-1, 0])]\n",
      "     |      \n",
      "     |      >>> Word.expand([-2,-1,0], [1,2], excludezero=True)\n",
      "     |      [Word([-2]), Word([-1]), Word([-2, -1])]\n",
      "     |      \n",
      "     |      All window lengths must be positive\n",
      "     |      >>> Word.expand([-2,-1], [0])\n",
      "     |      Traceback (most recent call last):\n",
      "     |        File \"<stdin>\", line 1, in <module>\n",
      "     |        File \"nltk/tag/tbl/template.py\", line 371, in expand\n",
      "     |          :param starts: where to start looking for Feature\n",
      "     |      ValueError: non-positive window length in [0]\n",
      "     |      \n",
      "     |      :param starts: where to start looking for Feature\n",
      "     |      :type starts: list of ints\n",
      "     |      :param winlens: window lengths where to look for Feature\n",
      "     |      :type starts: list of ints\n",
      "     |      :param excludezero: do not output any Feature with 0 in any of its positions.\n",
      "     |      :type excludezero: bool\n",
      "     |      :returns: list of Features\n",
      "     |      :raises ValueError: for non-positive window lengths\n",
      "     |  \n",
      "     |  ----------------------------------------------------------------------\n",
      "     |  Data descriptors inherited from nltk.tbl.feature.Feature:\n",
      "     |  \n",
      "     |  __dict__\n",
      "     |      dictionary for instance variables (if defined)\n",
      "     |  \n",
      "     |  __weakref__\n",
      "     |      list of weak references to the object (if defined)\n",
      "     |  \n",
      "     |  ----------------------------------------------------------------------\n",
      "     |  Data and other attributes inherited from nltk.tbl.feature.Feature:\n",
      "     |  \n",
      "     |  PROPERTY_NAME = None\n",
      "     |  \n",
      "     |  __hash__ = None\n",
      "\n",
      "FUNCTIONS\n",
      "    brill24()\n",
      "        Return 24 templates of the seminal TBL paper, Brill (1995)\n",
      "    \n",
      "    describe_template_sets()\n",
      "        Print the available template sets in this demo, with a short description\"\n",
      "    \n",
      "    fntbl37()\n",
      "        Return 37 templates taken from the postagging task of the\n",
      "        fntbl distribution http://www.cs.jhu.edu/~rflorian/fntbl/\n",
      "        (37 is after excluding a handful which do not condition on Pos[0];\n",
      "        fntbl can do that but the current nltk implementation cannot.)\n",
      "    \n",
      "    nltkdemo18()\n",
      "        Return 18 templates, from the original nltk demo, in multi-feature syntax\n",
      "    \n",
      "    nltkdemo18plus()\n",
      "        Return 18 templates, from the original nltk demo, and additionally a few\n",
      "        multi-feature ones (the motivation is easy comparison with nltkdemo18)\n",
      "\n",
      "FILE\n",
      "    c:\\users\\raushan\\anaconda3\\lib\\site-packages\\nltk\\tag\\brill.py\n",
      "\n",
      "\n"
     ]
    }
   ],
   "source": [
    "help(nltk.tag.brill)"
   ]
  },
  {
   "cell_type": "code",
   "execution_count": 63,
   "id": "b4d7b6dc",
   "metadata": {},
   "outputs": [],
   "source": [
    "from nltk.tag import brill_trainer, brill\n",
    "\n",
    "rules = brill.templates.fntbl37()"
   ]
  },
  {
   "cell_type": "code",
   "execution_count": 61,
   "id": "7f292a54",
   "metadata": {},
   "outputs": [],
   "source": [
    "bigram_t = nltk.tag.BigramTagger(train_sents)\n",
    "brill_t = brill_trainer.BrillTaggerTrainer(bigram_t, rules, trace=3)\n",
    "brill_t = brill_t.train(train_sents, max_rules=250)\n",
    "brill_t.evaluate(test_sents)"
   ]
  },
  {
   "cell_type": "code",
   "execution_count": null,
   "id": "69f0ecbc",
   "metadata": {},
   "outputs": [],
   "source": []
  },
  {
   "cell_type": "code",
   "execution_count": 64,
   "id": "cde3dd2d",
   "metadata": {},
   "outputs": [],
   "source": [
    "def train_brill_tagger(initial_tagger, train_sents, **kwargs):\n",
    "    templates = [\n",
    "            brill.Template(brill.Pos([-1])),\n",
    "            brill.Template(brill.Pos([1])),\n",
    "            brill.Template(brill.Pos([-2])),\n",
    "            brill.Template(brill.Pos([2])),\n",
    "            brill.Template(brill.Pos([-2, -1])),\n",
    "            brill.Template(brill.Pos([1, 2])),\n",
    "            brill.Template(brill.Pos([-3, -2, -1])),\n",
    "            brill.Template(brill.Pos([1, 2, 3])),\n",
    "            brill.Template(brill.Pos([-1]), brill.Pos([1])),\n",
    "            brill.Template(brill.Word([-1])),\n",
    "            brill.Template(brill.Word([1])),\n",
    "            brill.Template(brill.Word([-2])),\n",
    "            brill.Template(brill.Word([2])),\n",
    "            brill.Template(brill.Word([-2, -1])),\n",
    "            brill.Template(brill.Word([1, 2])),\n",
    "            brill.Template(brill.Word([-3, -2, -1])),\n",
    "            brill.Template(brill.Word([1, 2, 3])),\n",
    "            brill.Template(brill.Word([-1]), brill.Word([1])),\n",
    "            ]\n",
    "      \n",
    "    # Using BrillTaggerTrainer to train \n",
    "    trainer = brill_trainer.BrillTaggerTrainer(\n",
    "            initial_tagger, templates, deterministic = True)\n",
    "      \n",
    "    return trainer.train(train_sents, **kwargs)"
   ]
  },
  {
   "cell_type": "code",
   "execution_count": null,
   "id": "2e521b6c",
   "metadata": {},
   "outputs": [],
   "source": [
    "brill = train_brill_tagger(nltk.UnigramTagger(train_sents), train_sents)"
   ]
  },
  {
   "cell_type": "code",
   "execution_count": null,
   "id": "7cc521d4",
   "metadata": {},
   "outputs": [],
   "source": [
    "brill.evaluate(test_sents)"
   ]
  },
  {
   "cell_type": "markdown",
   "id": "f28518ba",
   "metadata": {},
   "source": [
    "__◑ Write code that builds a dictionary of dictionaries of sets. Use it to store the set of POS tags that can follow a given word having a given POS tag, i.e. wordi → tagi → tagi+1.__"
   ]
  },
  {
   "cell_type": "code",
   "execution_count": 300,
   "id": "d9ec908d",
   "metadata": {},
   "outputs": [],
   "source": [
    "set_dict = defaultdict(lambda: defaultdict(set))"
   ]
  },
  {
   "cell_type": "code",
   "execution_count": 302,
   "id": "efbc4737",
   "metadata": {},
   "outputs": [],
   "source": [
    "for (w1, t1), (w2, t2) in nltk.bigrams(brown.tagged_words()):\n",
    "    set_dict[w1][t1] = t2"
   ]
  },
  {
   "cell_type": "code",
   "execution_count": 304,
   "id": "797f7e02",
   "metadata": {},
   "outputs": [
    {
     "data": {
      "text/plain": [
       "defaultdict(set,\n",
       "            {'CS': 'AT',\n",
       "             'WPS': 'VBD',\n",
       "             'DT': 'NN',\n",
       "             'QL': 'JJ',\n",
       "             'WPO': 'PPS',\n",
       "             'CS-HL': 'EX',\n",
       "             'DT-NC': 'BEDZ-NC',\n",
       "             'NIL': 'NIL',\n",
       "             'WPS-NC': 'BEDZ-NC',\n",
       "             'WPO-NC': 'PPSS-NC',\n",
       "             'CS-NC': 'PPSS-NC',\n",
       "             'WPS-HL': 'VB-HL'})"
      ]
     },
     "execution_count": 304,
     "metadata": {},
     "output_type": "execute_result"
    }
   ],
   "source": [
    "set_dict[\"that\"]"
   ]
  },
  {
   "cell_type": "markdown",
   "id": "e8f86efa",
   "metadata": {},
   "source": [
    "__★ There are 264 distinct words in the Brown Corpus having exactly three possible tags.__\n",
    "\n",
    "Print a table with the integers 1..10 in one column, and the number of distinct words in the corpus having 1..10 distinct tags in the other column.\n",
    "\n",
    "For the word with the greatest number of distinct tags, print out sentences from the corpus containing the word, one for each possible tag."
   ]
  },
  {
   "cell_type": "code",
   "execution_count": 310,
   "id": "63a0bbd1",
   "metadata": {},
   "outputs": [],
   "source": [
    "cfd_brown = nltk.ConditionalFreqDist([(w.lower(), tag) for (w, tag) in brown.tagged_words()])\n",
    "dict_num_of_tags = defaultdict(lambda: list())\n",
    "\n",
    "for word in cfd_brown.conditions():\n",
    "    dict_num_of_tags[len(cfd_brown[word])].append(word)"
   ]
  },
  {
   "cell_type": "code",
   "execution_count": 312,
   "id": "e7c7cf04",
   "metadata": {},
   "outputs": [
    {
     "data": {
      "text/plain": [
       "[\"atlanta's\",\n",
       " '``',\n",
       " \"''\",\n",
       " 'irregularities',\n",
       " 'took',\n",
       " 'term-end',\n",
       " 'presentments',\n",
       " 'deserves',\n",
       " 'manner',\n",
       " 'september-october',\n",
       " 'durwood',\n",
       " 'pye',\n",
       " 'investigate',\n",
       " 'possible',\n",
       " 'hard-fought']"
      ]
     },
     "execution_count": 312,
     "metadata": {},
     "output_type": "execute_result"
    }
   ],
   "source": [
    "dict_num_of_tags[1][:15] # only one tag words, first 15"
   ]
  },
  {
   "cell_type": "code",
   "execution_count": 314,
   "id": "ae3a8007",
   "metadata": {},
   "outputs": [
    {
     "data": {
      "text/plain": [
       "['that']"
      ]
     },
     "execution_count": 314,
     "metadata": {},
     "output_type": "execute_result"
    }
   ],
   "source": [
    "dict_num_of_tags[max(dict_num_of_tags)]"
   ]
  },
  {
   "cell_type": "code",
   "execution_count": 321,
   "id": "4860957b",
   "metadata": {},
   "outputs": [
    {
     "name": "stdout",
     "output_type": "stream",
     "text": [
      "1. The Fulton County Grand Jury said Friday an investigation of Atlanta's recent primary election produced `` no evidence '' that any irregularities took place .\n",
      "\n",
      "2. Regarding Atlanta's new multi-million-dollar airport , the jury recommended `` that when the new management takes charge Jan. 1 the airport be operated in a manner that will eliminate political influences '' .\n",
      "\n",
      "3. `` Actually , the abuse of the process may have constituted a contempt of the Criminal court of Cook county , altho vindication of the authority of that court is not the function of this court '' , said Karns , who is a City judge in East St. Louis sitting in Cook County court .\n",
      "\n",
      "4. While the city council suggested that the Legislative Council might perform the review , Mr. Notte said that instead he will take up the matter with Atty. Gen. J. Joseph Nugent to get `` the benefit of his views '' .\n",
      "\n",
      "5. He was able to smell a bargain -- and a masterpiece -- a continent away , and the Museum of Modern Art's Alfred Barr said of him : `` I have never mentioned a new artist that Thompson didn't know about '' .\n",
      "\n",
      "6. According to the official interpretation of the Charter , a member cannot be penalized by not having the right to vote in the General Assembly for nonpayment of financial obligations to the `` special '' United Nations' budgets , and of course cannot be expelled from the Organization ( which you suggested in your editorial ) , due to the fact that there is no provision in the Charter for expulsion .\n",
      "\n",
      "7. He has his own system of shorthand , devised by abbreviations : `` humility '' will be `` humly '' , `` with '' will be `` w '' , and `` that '' will be `` tt '' .\n",
      "\n",
      "8. Thus , as a development program is being launched , commitments and obligations must be entered into in a given year which may exceed by twofold or threefold the expenditures to be made in that year .\n",
      "\n",
      "9. In of all the suggestions that were made , his was the silliest the possessive his represents his suggestion and is stressed .\n",
      "\n",
      "10. Thus to has light stress both in that was the conclusion that I came to and in that was the conclusion I came to .\n",
      "\n",
      "11. But when to represents to consciousness in that was the moment that I came to , and similarly in that was the moment I came to , there is much stronger stress on to .\n",
      "\n",
      "12. Factors that inhibit learning and lead to maladjustment\n",
      "\n"
     ]
    }
   ],
   "source": [
    "that_tags = list(set([tag for (w, tag) in brown.tagged_words() if w == \"that\"]))\n",
    "that_sents = []\n",
    "idx = 0\n",
    "\n",
    "for sent in brown.tagged_sents():\n",
    "    for (w, tag) in sent:\n",
    "        if w == \"that\" and tag in that_tags:\n",
    "            that_tags.remove(tag)\n",
    "            idx += 1\n",
    "            print(str(idx)+\".\", *[w for (w, _) in sent], end = \"\\n\\n\")"
   ]
  },
  {
   "cell_type": "markdown",
   "id": "30a39c1c",
   "metadata": {},
   "source": [
    "__★ Write a program to classify contexts involving the word \"must\" according to the tag of the following word. Can this be used to discriminate between the epistemic and deontic uses of must?__"
   ]
  },
  {
   "cell_type": "code",
   "execution_count": 8,
   "id": "4f9b665a",
   "metadata": {},
   "outputs": [],
   "source": [
    "tags_after_must = defaultdict(lambda : list())\n",
    "\n",
    "for sent in brown.tagged_sents():\n",
    "    for (w1, t1), (w2, t2) in nltk.bigrams(sent):\n",
    "        if w1 == \"must\":\n",
    "            tags_after_must[t2].append(\" \".join([w for (w, _) in sent]))"
   ]
  },
  {
   "cell_type": "code",
   "execution_count": 9,
   "id": "b4803b07",
   "metadata": {
    "scrolled": true
   },
   "outputs": [
    {
     "data": {
      "text/plain": [
       "dict_keys(['BE', 'VB', 'HV', '*', 'IN', \"''\", 'RB', ',', 'DO', 'PPSS', 'AT', '.', 'CC', 'BE-HL', 'VBZ', 'VB-HL', 'PPLS', 'NIL', 'RB-HL', 'ABX', 'PPO', 'NN', 'PPS', 'ABN'])"
      ]
     },
     "execution_count": 9,
     "metadata": {},
     "output_type": "execute_result"
    }
   ],
   "source": [
    "tags_after_must.keys()"
   ]
  },
  {
   "cell_type": "code",
   "execution_count": 10,
   "id": "7a8f1e18",
   "metadata": {
    "scrolled": true
   },
   "outputs": [
    {
     "data": {
      "text/plain": [
       "['The largest hurdle the Republicans would have to face is a state law which says that before making a first race , one of two alternative courses must be taken : 1',\n",
       " 'On the negative side of the balance sheet must be set some disappointment that the United States leadership has not been as much in evidence as hoped for .',\n",
       " \"The secretary's greatest achievement is perhaps the rekindling of NATO realization that East-West friction , wherever it take place around the globe , is in essence the general conflict between two entirely different societies , and must be treated as such without regard to geographical distance or lack of apparent connection .\",\n",
       " \"The small shops `` must be retained , for they provide essential service to the community '' , according to the resolution , which added that they `` also are the source of livelihood for thousands of our neighbors '' .\",\n",
       " 'The law which governs home rule charter petitions states that they must be referred to the chairman of the board of canvassers for verification of the signatures within 10 days and Mr. Martinelli happens to hold that post .']"
      ]
     },
     "execution_count": 10,
     "metadata": {},
     "output_type": "execute_result"
    }
   ],
   "source": [
    "tags_after_must[\"BE\"][:5]  # from first 5 examples it can be stated that the word \"must\" has epistemis use before tag \"BE\""
   ]
  },
  {
   "cell_type": "code",
   "execution_count": 13,
   "id": "de70330d",
   "metadata": {
    "scrolled": false
   },
   "outputs": [
    {
     "name": "stdout",
     "output_type": "stream",
     "text": [
      "The tag is BE\n",
      "The largest hurdle the Republicans would have to face is a state law which says that before making a first race , one of two alternative courses must be taken : 1\n",
      "\n",
      "\n",
      "The tag is VB\n",
      "Five per cent of the voters in each county must sign petitions requesting that the Republicans be allowed to place names of candidates on the general election ballot , or 2\n",
      "\n",
      "\n",
      "The tag is HV\n",
      "`` Certain people must have known about it '' .\n",
      "\n",
      "\n",
      "The tag is *\n",
      "He cited East Germany where after 15 years of Soviet rule it has become necessary to build a wall to keep the people in , and added , `` so long as people rebel , we must not give up '' .\n",
      "\n",
      "\n",
      "The tag is IN\n",
      "The increase in mechanical harvesting of cotton makes cleaning and drying equipment a must for modern gin operation .\n",
      "\n",
      "\n",
      "The tag is ''\n",
      "He said that from his experience of two years with Gen. Clay in West Berlin administration , that `` Russia respects our show of strength , but that presently we're not acting as we should and must '' .\n",
      "\n",
      "\n",
      "The tag is RB\n",
      "You must also wear a car coat .\n",
      "\n",
      "\n",
      "The tag is ,\n",
      "Mayor Robert F. Wagner must , as his opponents demand , assume responsibility for his performance in office .\n",
      "\n",
      "\n",
      "The tag is DO\n",
      "But competent observers believe he is making progress , particularly toward what Sen. Jackson lists as the primary need -- `` a clearer understanding of where our vital national interests lie and what we must do to promote them '' .\n",
      "\n",
      "\n",
      "The tag is PPSS\n",
      "How many times must we get burned before we learn ? ?\n",
      "\n",
      "\n",
      "The tag is AT\n",
      "Presumably , if the reverse is the case and the good effect is more certain than the evil result that may be forthcoming , not only must the good and the evil be prudentially weighed and found proportionate , but also calculation of the probabilities and of the degree of certainty or uncertainty in the good or evil effect must be taken into account .\n",
      "\n",
      "\n",
      "The tag is .\n",
      "The moral is : don't transplant it any oftener than you must .\n",
      "\n",
      "\n",
      "The tag is CC\n",
      "must and should do .\n",
      "\n",
      "\n",
      "The tag is BE-HL\n",
      "Life must be kept in harmony\n",
      "\n",
      "\n",
      "The tag is VBZ\n",
      "In some cities games were broadcast throughout the week and then on weekends the announcer was silenced , and fans must needs drive to the city from all the broadcast area to discover how their heroes were faring .\n",
      "\n",
      "\n",
      "The tag is VB-HL\n",
      "We must use common sense in applying conditions\n",
      "\n",
      "\n",
      "The tag is PPLS\n",
      "To have any success in this effort , we must ourselves view it as an enterprise stretching over a considerable number of years , and we must encourage the recipients of our aid to view it in the same fashion .\n",
      "\n",
      "\n",
      "The tag is NIL\n",
      "Thus , as a development program is being launched , commitments and obligations must be entered into in a given year which may exceed by twofold or threefold the expenditures to be made in that year .\n",
      "\n",
      "\n",
      "The tag is RB-HL\n",
      "Minors minors must also file returns if they earn $600 or more during the year .\n",
      "\n",
      "\n",
      "The tag is ABX\n",
      "Now Af and Af must both be tangent points on the T component in the f-plane ; ;\n",
      "\n",
      "\n",
      "The tag is PPO\n",
      "Or must it become law by amendment of the United States Constitution ? ?\n",
      "\n",
      "\n",
      "The tag is NN\n",
      "The Providence Daily Journal stated that although the guilt of Brown was evident , the South must guarantee him a fair trial to preserve domestic peace .\n",
      "\n",
      "\n",
      "The tag is PPS\n",
      "No , she would not pretend modesty , but neither must she be crudely bold .\n",
      "\n",
      "\n",
      "The tag is ABN\n",
      "`` Let's just remember , Sergeant , that we must all carry our own umbrella .\n",
      "\n",
      "\n"
     ]
    }
   ],
   "source": [
    "# let us take a look at 1 example per tag\n",
    "for tag in tags_after_must.keys():\n",
    "    print(\"The tag is {}\\n{}\\n\\n\".format(tag, tags_after_must[tag][0]))"
   ]
  },
  {
   "cell_type": "markdown",
   "id": "d3530a99",
   "metadata": {},
   "source": [
    "From the example above, it can be assumed that \"must usually occurs in deontonic use before tha tag \"HV\", which was my hypothesis from the beginning. So, let us print some more examples of \"HV\" tag."
   ]
  },
  {
   "cell_type": "code",
   "execution_count": 15,
   "id": "857bcb99",
   "metadata": {},
   "outputs": [
    {
     "name": "stdout",
     "output_type": "stream",
     "text": [
      "`` Certain people must have known about it '' .\n",
      "\n",
      "\n",
      "Mrs. Molvar , who kept reiterating her request that they `` please take a stand '' , said , `` We must have faith in somebody -- on the local level , and it wouldn't be possible for everyone to rush to a school to get their children '' .\n",
      "\n",
      "\n",
      "The pretty coeds must have ogled him all day long -- but he dutifully kept his eye on the gravy .\n",
      "\n",
      "\n",
      "What a swinging group they must have been when they first started entertaining ! !\n",
      "\n",
      "\n",
      "With their huge backs and overdeveloped shoulders , both must have their clothes made to order .\n",
      "\n",
      "\n"
     ]
    }
   ],
   "source": [
    "for sent in tags_after_must[\"HV\"][:5]:\n",
    "    print(\"{}\\n\\n\".format(sent))"
   ]
  },
  {
   "cell_type": "markdown",
   "id": "c9edb8f3",
   "metadata": {},
   "source": [
    "__★ Create a regular expression tagger and various unigram and n-gram taggers, incorporating backoff, and train them on part of the Brown corpus.__\n",
    "\n",
    "Create three different combinations of the taggers. Test the accuracy of each combined tagger. Which combination works best?\n",
    "\n",
    "Try varying the size of the training corpus. How does it affect your results?"
   ]
  },
  {
   "cell_type": "code",
   "execution_count": 20,
   "id": "864f6900",
   "metadata": {},
   "outputs": [],
   "source": [
    "# regexp_tagger               # a regex tagger from above examples\n",
    "# train_sents, test_sents     # from brown corpus, 0.9 used for train"
   ]
  },
  {
   "cell_type": "code",
   "execution_count": 23,
   "id": "ca9fe503",
   "metadata": {},
   "outputs": [],
   "source": [
    "# We already used different model sized above and different ngrams (1-6 grams), and already have taken a look\n",
    "# at how the accuracy behaves as the sizes or ngram ranges change.\n",
    "# That is why I do not see a point in doing all over again, so I will just make one model \n",
    "# with 6-gram tagger (which showed good accuracy) falling for a backoff in 5, 4, 3, 2, 1 grams. \n",
    "# At the end there will be a backoff for Regexp Tagger.\n",
    "# Train and test sizes stay the same, 0.9 and 0.1 from Brown\n",
    "\n",
    "t1 = nltk.NgramTagger(1, train_sents, backoff = regexp_tagger)\n",
    "t2 = nltk.NgramTagger(2, train_sents, backoff = t1)\n",
    "t3 = nltk.NgramTagger(3, train_sents, backoff = t2)\n",
    "t4 = nltk.NgramTagger(4, train_sents, backoff = t3)\n",
    "t5 = nltk.NgramTagger(5, train_sents, backoff = t4)\n",
    "t6 = nltk.NgramTagger(6, train_sents, backoff = t5)"
   ]
  },
  {
   "cell_type": "code",
   "execution_count": 24,
   "id": "d0c4062d",
   "metadata": {},
   "outputs": [
    {
     "data": {
      "text/plain": [
       "0.9168395465308774"
      ]
     },
     "execution_count": 24,
     "metadata": {},
     "output_type": "execute_result"
    }
   ],
   "source": [
    "t6.evaluate(test_sents)  # Quite higher accuracy to what we have been geting earlier with t2 (BigramTagger)- t1 (UnigramTagger)- t0 (defaultTagger)"
   ]
  },
  {
   "cell_type": "markdown",
   "id": "b56d1255",
   "metadata": {},
   "source": [
    "__★ Our approach for tagging an unknown word has been to consider the letters of the word (using RegexpTagger()), or to ignore the word altogether and tag it as a noun (using nltk.DefaultTagger()). These methods will not do well for texts having new words that are not nouns. Consider the sentence I like to blog on Kim's blog. If blog is a new word, then looking at the previous tag (TO versus NP$) would probably be helpful. I.e. we need a default tagger that is sensitive to the preceding tag.__\n",
    "\n",
    "Create a new kind of unigram tagger that looks at the tag of the previous word, and ignores the current word. (The best way to do this is to modify the source code for UnigramTagger(), which presumes knowledge of object-oriented programming in Python.)\n",
    "\n",
    "Add this tagger to the sequence of backoff taggers (including ordinary trigram and bigram taggers that look at words), right before the usual default tagger.\n",
    "\n",
    "Evaluate the contribution of this new unigram tagger."
   ]
  },
  {
   "cell_type": "code",
   "execution_count": 28,
   "id": "a85ccb01",
   "metadata": {},
   "outputs": [],
   "source": [
    "class MyTagger(nltk.UnigramTagger):\n",
    "    \n",
    "    def __init__(self, train=None, model=None,\n",
    "                 backoff=None, cutoff=0):\n",
    "        nltk.UnigramTagger.__init__(self, train, model, backoff, cutoff)\n",
    "\n",
    "    def context(self, tokens, index, history):\n",
    "        if index == 0:\n",
    "            return None\n",
    "        else:\n",
    "            return history[index-1]"
   ]
  },
  {
   "cell_type": "code",
   "execution_count": 29,
   "id": "dd19b7c4",
   "metadata": {},
   "outputs": [],
   "source": [
    "#Using the same example from above until 6-grams\n",
    "t1 = MyTagger(train_sents, backoff = regexp_tagger)\n",
    "model2 = nltk.NgramTagger(2, train_sents, backoff = t1)\n",
    "model3 = nltk.NgramTagger(3, train_sents, backoff = model2)\n",
    "model4 = nltk.NgramTagger(4, train_sents, backoff = model3)\n",
    "model5 = nltk.NgramTagger(5, train_sents, backoff = model4)\n",
    "model6 = nltk.NgramTagger(6, train_sents, backoff = model5)"
   ]
  },
  {
   "cell_type": "code",
   "execution_count": 30,
   "id": "6586b249",
   "metadata": {},
   "outputs": [
    {
     "data": {
      "text/plain": [
       "0.8120324385490665"
      ]
     },
     "execution_count": 30,
     "metadata": {},
     "output_type": "execute_result"
    }
   ],
   "source": [
    "model6.evaluate(test_sents)  # lower accuracy than using a usual UnigramTagger "
   ]
  },
  {
   "cell_type": "markdown",
   "id": "90f474e3",
   "metadata": {},
   "source": [
    "__★ Consider the code in 5 which determines the upper bound for accuracy of a trigram tagger. Review Abney's discussion concerning the impossibility of exact tagging (Church, Young, & Bloothooft, 1996). Explain why correct tagging of these examples requires access to other kinds of information than just words and tags. How might you estimate the scale of this problem?__"
   ]
  },
  {
   "cell_type": "code",
   "execution_count": 34,
   "id": "0952bc41",
   "metadata": {},
   "outputs": [
    {
     "data": {
      "text/plain": [
       "0.1163751063917183"
      ]
     },
     "execution_count": 34,
     "metadata": {},
     "output_type": "execute_result"
    }
   ],
   "source": [
    "# defines upper boundary for 3-gram tagger\n",
    "cfd_trigram = nltk.ConditionalFreqDist(\n",
    "            ((x[1], y[1], z[0]), z[1])\n",
    "            for sent in brown.tagged_sents()\n",
    "            for x, y, z in nltk.trigrams(sent))\n",
    "ambiguous_contexts = [c for c in cfd_trigram.conditions() if len(cfd_trigram[c]) > 1]\n",
    "sum(cfd_trigram[c].N() for c in ambiguous_contexts) / cfd_trigram.N()  # the book had an ambiguity of 0.049 at that time"
   ]
  },
  {
   "cell_type": "markdown",
   "id": "05e7a56a",
   "metadata": {},
   "source": [
    "I could not find the indicated article in open access, so I will just speculate what might be the scale of the stated problem. From the examples we have been seeing throughout the chapter, it is clear that tagging requires as much information as possible about the word itself and the tags of the words around it. We have noticed that from examples where an Ngram tagger with multiple backoffs has higher accuracy compared to the UnigramTagger or BigramTagger alone. Therefore, it could be assumed that tagging requires much more information than just the Ngram tags of the words before the target-word, since previous tags do not always contain enough information.\n",
    "\n",
    "Also, some more information could be found in an article called \"Part-of-Speech Tagging from 97% to 100%: Is It Time for Some Linguistics?\" from Chris Manning. The author investigates the ways of improving POS atggers and comes to a conclusion that making gold standard tags more consistent could be one solution to higher accuracy in tagging.\n",
    "Available here: https://nlp.stanford.edu/pubs/CICLing2011-manning-tagging.pdf"
   ]
  },
  {
   "cell_type": "markdown",
   "id": "4f3ca460",
   "metadata": {},
   "source": [
    "__★ Use some of the estimation techniques in nltk.probability, such as Lidstone or Laplace estimation, to develop a statistical tagger that does a better job than n-gram backoff taggers in cases where contexts encountered during testing were not seen during training.__"
   ]
  },
  {
   "cell_type": "code",
   "execution_count": 50,
   "id": "5c63af74",
   "metadata": {},
   "outputs": [],
   "source": [
    "from nltk.util import unique_list\n",
    "from nltk.probability import * \n",
    "\n",
    "tag_set = unique_list(tag for sent in brown.tagged_sents() for (word,tag) in sent)\n",
    "symbols = unique_list(word for sent in brown.tagged_sents() for (word,tag) in sent)\n",
    "trainer = nltk.tag.HiddenMarkovModelTrainer(tag_set, symbols)"
   ]
  },
  {
   "cell_type": "code",
   "execution_count": 48,
   "id": "ee8690a1",
   "metadata": {},
   "outputs": [],
   "source": [
    "def lidstone(gamma):\n",
    "    return lambda fd, bins: LidstoneProbDist(fd, gamma, bins)"
   ]
  },
  {
   "cell_type": "code",
   "execution_count": 53,
   "id": "7aa2cebc",
   "metadata": {},
   "outputs": [],
   "source": [
    "mle = lambda fd, bins: MLEProbDist(fd)\n",
    "\n",
    "laplace = trainer.train_supervised(train_sents, estimator = LaplaceProbDist)  # the same as Lidstone with gamma=1\n",
    "# lidstone_hmm = trainer.train_supervised(train_sents, estimator = lidstone(0.1))"
   ]
  },
  {
   "cell_type": "code",
   "execution_count": null,
   "id": "d623ab9c",
   "metadata": {},
   "outputs": [],
   "source": [
    "# print(\"Accuracy with Laplace estimator is {}\\nwith Lidstone estimator is {}\".format(laplace.entropy(test_sents), lidstone_.entropy(test_sents)))"
   ]
  },
  {
   "cell_type": "markdown",
   "id": "fbb63e52",
   "metadata": {},
   "source": [
    "__★ Inspect the diagnostic files created by the Brill tagger rules.out and errors.out. Obtain the demonstration code by accessing the source code (at http://www.nltk.org/code) and create your own version of the Brill tagger. Delete some of the rule templates, based on what you learned from inspecting rules.out. Add some new rule templates which employ contexts that might help to correct the errors you saw in errors.out.__"
   ]
  },
  {
   "cell_type": "code",
   "execution_count": null,
   "id": "75c68b3d",
   "metadata": {},
   "outputs": [],
   "source": []
  },
  {
   "cell_type": "code",
   "execution_count": null,
   "id": "ad1453a2",
   "metadata": {},
   "outputs": [],
   "source": []
  },
  {
   "cell_type": "code",
   "execution_count": null,
   "id": "edd63ba4",
   "metadata": {},
   "outputs": [],
   "source": []
  },
  {
   "cell_type": "code",
   "execution_count": null,
   "id": "c86e680f",
   "metadata": {},
   "outputs": [],
   "source": []
  },
  {
   "cell_type": "code",
   "execution_count": null,
   "id": "10593b2e",
   "metadata": {},
   "outputs": [],
   "source": []
  },
  {
   "cell_type": "code",
   "execution_count": null,
   "id": "67ddc84c",
   "metadata": {},
   "outputs": [],
   "source": []
  },
  {
   "cell_type": "code",
   "execution_count": null,
   "id": "b308856a",
   "metadata": {},
   "outputs": [],
   "source": []
  }
 ],
 "metadata": {
  "kernelspec": {
   "display_name": "Python 3",
   "language": "python",
   "name": "python3"
  },
  "language_info": {
   "codemirror_mode": {
    "name": "ipython",
    "version": 3
   },
   "file_extension": ".py",
   "mimetype": "text/x-python",
   "name": "python",
   "nbconvert_exporter": "python",
   "pygments_lexer": "ipython3",
   "version": "3.8.8"
  }
 },
 "nbformat": 4,
 "nbformat_minor": 5
}
